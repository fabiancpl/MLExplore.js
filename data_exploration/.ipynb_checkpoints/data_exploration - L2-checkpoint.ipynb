{
 "cells": [
  {
   "cell_type": "code",
   "execution_count": 1,
   "metadata": {},
   "outputs": [],
   "source": [
    "import os\n",
    "import requests\n",
    "import numpy as np\n",
    "import pandas as pd\n",
    "import pandas_profiling\n",
    "\n",
    "import matplotlib.pyplot as plt\n",
    "%matplotlib inline\n",
    "import seaborn as sns;\n",
    "\n",
    "from sklearn.preprocessing import StandardScaler\n",
    "\n",
    "from sklearn.cluster import KMeans, SpectralClustering\n",
    "\n",
    "from sklearn.manifold import TSNE\n",
    "from sklearn.decomposition import PCA\n",
    "\n",
    "from sklearn.pipeline import Pipeline\n",
    "\n",
    "import umap"
   ]
  },
  {
   "cell_type": "code",
   "execution_count": 2,
   "metadata": {},
   "outputs": [],
   "source": [
    "pd.options.display.max_columns = 200"
   ]
  },
  {
   "cell_type": "code",
   "execution_count": 17,
   "metadata": {},
   "outputs": [],
   "source": [
    "dataset_sufix = 'L2'"
   ]
  },
  {
   "cell_type": "markdown",
   "metadata": {},
   "source": [
    "# Data Loading"
   ]
  },
  {
   "cell_type": "code",
   "execution_count": 3,
   "metadata": {},
   "outputs": [],
   "source": [
    "salurbal_df = pd.read_excel( '../data/base_l2.xlsx' )"
   ]
  },
  {
   "cell_type": "code",
   "execution_count": 4,
   "metadata": {},
   "outputs": [],
   "source": [
    "# Deleting columns\n",
    "del salurbal_df[ 'SALID1' ]\n",
    "del salurbal_df[ 'SALID2' ]\n",
    "\n",
    "del salurbal_df[ 'urb-pmp-1' ]\n",
    "del salurbal_df[ 'urb-pmp-2' ]\n",
    "del salurbal_df[ 'urb-pmp-3' ]\n",
    "del salurbal_df[ 'urb-pmp-4' ]\n",
    "del salurbal_df[ 'urb-pmp-5' ]\n",
    "del salurbal_df[ 'urb-pmp-6' ]\n",
    "\n",
    "del salurbal_df[ 'stt-pmp-1' ]\n",
    "del salurbal_df[ 'stt-pmp-2' ]\n",
    "del salurbal_df[ 'stt-pmp-3' ]\n",
    "del salurbal_df[ 'stt-pmp-4' ]\n",
    "del salurbal_df[ 'stt-pmp-5' ]\n",
    "del salurbal_df[ 'stt-pmp-6' ]"
   ]
  },
  {
   "cell_type": "code",
   "execution_count": 5,
   "metadata": {},
   "outputs": [
    {
     "data": {
      "text/plain": [
       "(1351, 20)"
      ]
     },
     "execution_count": 5,
     "metadata": {},
     "output_type": "execute_result"
    }
   ],
   "source": [
    "salurbal_df.shape"
   ]
  },
  {
   "cell_type": "code",
   "execution_count": 6,
   "metadata": {},
   "outputs": [
    {
     "data": {
      "text/plain": [
       "Country                   object\n",
       "L1Name                    object\n",
       "L2Namev2                  object\n",
       "BECNURBPTCHL2              int64\n",
       "BECPTCHDENSL2            float64\n",
       "BECAWMNSHPINDXL2         float64\n",
       "BECAWMNNNGHL2            float64\n",
       "BECEFFMESHSIZEL2         float64\n",
       "BECAWAVGPTCHAREAL2       float64\n",
       "BECAWEDGDENSL2           float64\n",
       "BECPRSBRTL2                int64\n",
       "BECPRSSUBWAYL2             int64\n",
       "BECADCRCTYAVGL2          float64\n",
       "BECADINTDENSL2           float64\n",
       "BECADSTTDENSL2           float64\n",
       "BECADSTTPNODEAVGL2       float64\n",
       "BECADSTTLGAVGL2          float64\n",
       "BECURBTRVDELAYINDEXL2    float64\n",
       "urb-perfil                 int64\n",
       "stt-perfil                 int64\n",
       "dtype: object"
      ]
     },
     "execution_count": 6,
     "metadata": {},
     "output_type": "execute_result"
    }
   ],
   "source": [
    "salurbal_df.dtypes"
   ]
  },
  {
   "cell_type": "code",
   "execution_count": 7,
   "metadata": {},
   "outputs": [
    {
     "data": {
      "text/html": [
       "<div>\n",
       "<style scoped>\n",
       "    .dataframe tbody tr th:only-of-type {\n",
       "        vertical-align: middle;\n",
       "    }\n",
       "\n",
       "    .dataframe tbody tr th {\n",
       "        vertical-align: top;\n",
       "    }\n",
       "\n",
       "    .dataframe thead th {\n",
       "        text-align: right;\n",
       "    }\n",
       "</style>\n",
       "<table border=\"1\" class=\"dataframe\">\n",
       "  <thead>\n",
       "    <tr style=\"text-align: right;\">\n",
       "      <th></th>\n",
       "      <th>Country</th>\n",
       "      <th>L1Name</th>\n",
       "      <th>L2Namev2</th>\n",
       "      <th>BECNURBPTCHL2</th>\n",
       "      <th>BECPTCHDENSL2</th>\n",
       "      <th>BECAWMNSHPINDXL2</th>\n",
       "      <th>BECAWMNNNGHL2</th>\n",
       "      <th>BECEFFMESHSIZEL2</th>\n",
       "      <th>BECAWAVGPTCHAREAL2</th>\n",
       "      <th>BECAWEDGDENSL2</th>\n",
       "      <th>BECPRSBRTL2</th>\n",
       "      <th>BECPRSSUBWAYL2</th>\n",
       "      <th>BECADCRCTYAVGL2</th>\n",
       "      <th>BECADINTDENSL2</th>\n",
       "      <th>BECADSTTDENSL2</th>\n",
       "      <th>BECADSTTPNODEAVGL2</th>\n",
       "      <th>BECADSTTLGAVGL2</th>\n",
       "      <th>BECURBTRVDELAYINDEXL2</th>\n",
       "      <th>urb-perfil</th>\n",
       "      <th>stt-perfil</th>\n",
       "    </tr>\n",
       "  </thead>\n",
       "  <tbody>\n",
       "    <tr>\n",
       "      <th>0</th>\n",
       "      <td>Argentina</td>\n",
       "      <td>Bahia Blanca</td>\n",
       "      <td>Bahía Blanca</td>\n",
       "      <td>487</td>\n",
       "      <td>0.2131</td>\n",
       "      <td>5.1337</td>\n",
       "      <td>76.6491</td>\n",
       "      <td>77.6599</td>\n",
       "      <td>2644.8742</td>\n",
       "      <td>0.420828</td>\n",
       "      <td>0</td>\n",
       "      <td>0</td>\n",
       "      <td>1.032761</td>\n",
       "      <td>3.672485</td>\n",
       "      <td>939.287799</td>\n",
       "      <td>3.411006</td>\n",
       "      <td>144.004054</td>\n",
       "      <td>0.104629</td>\n",
       "      <td>1</td>\n",
       "      <td>6</td>\n",
       "    </tr>\n",
       "    <tr>\n",
       "      <th>1</th>\n",
       "      <td>Argentina</td>\n",
       "      <td>Buenos Aires</td>\n",
       "      <td>CABA - Comuna 12</td>\n",
       "      <td>1</td>\n",
       "      <td>0.0642</td>\n",
       "      <td>1.4735</td>\n",
       "      <td>NaN</td>\n",
       "      <td>1557.1800</td>\n",
       "      <td>1557.1800</td>\n",
       "      <td>14.988633</td>\n",
       "      <td>1</td>\n",
       "      <td>1</td>\n",
       "      <td>1.010627</td>\n",
       "      <td>102.376535</td>\n",
       "      <td>18590.830836</td>\n",
       "      <td>3.619105</td>\n",
       "      <td>99.891610</td>\n",
       "      <td>0.168965</td>\n",
       "      <td>6</td>\n",
       "      <td>5</td>\n",
       "    </tr>\n",
       "    <tr>\n",
       "      <th>2</th>\n",
       "      <td>Argentina</td>\n",
       "      <td>Buenos Aires</td>\n",
       "      <td>CABA - Comuna 13</td>\n",
       "      <td>13</td>\n",
       "      <td>0.8836</td>\n",
       "      <td>2.5395</td>\n",
       "      <td>60.0462</td>\n",
       "      <td>1264.0834</td>\n",
       "      <td>1359.9129</td>\n",
       "      <td>24.739527</td>\n",
       "      <td>1</td>\n",
       "      <td>1</td>\n",
       "      <td>1.026108</td>\n",
       "      <td>90.571453</td>\n",
       "      <td>16060.259206</td>\n",
       "      <td>3.473831</td>\n",
       "      <td>98.454629</td>\n",
       "      <td>0.240852</td>\n",
       "      <td>2</td>\n",
       "      <td>5</td>\n",
       "    </tr>\n",
       "    <tr>\n",
       "      <th>3</th>\n",
       "      <td>Argentina</td>\n",
       "      <td>Buenos Aires</td>\n",
       "      <td>CABA - Comuna 4</td>\n",
       "      <td>8</td>\n",
       "      <td>0.3611</td>\n",
       "      <td>2.2122</td>\n",
       "      <td>67.1673</td>\n",
       "      <td>1990.2022</td>\n",
       "      <td>2091.1138</td>\n",
       "      <td>18.119355</td>\n",
       "      <td>1</td>\n",
       "      <td>1</td>\n",
       "      <td>1.027101</td>\n",
       "      <td>79.577418</td>\n",
       "      <td>14502.014548</td>\n",
       "      <td>3.361758</td>\n",
       "      <td>104.423094</td>\n",
       "      <td>0.156420</td>\n",
       "      <td>2</td>\n",
       "      <td>5</td>\n",
       "    </tr>\n",
       "    <tr>\n",
       "      <th>4</th>\n",
       "      <td>Argentina</td>\n",
       "      <td>Buenos Aires</td>\n",
       "      <td>CABA - Comuna 6</td>\n",
       "      <td>1</td>\n",
       "      <td>0.1460</td>\n",
       "      <td>1.2914</td>\n",
       "      <td>NaN</td>\n",
       "      <td>684.9000</td>\n",
       "      <td>684.9000</td>\n",
       "      <td>19.798511</td>\n",
       "      <td>0</td>\n",
       "      <td>1</td>\n",
       "      <td>1.005764</td>\n",
       "      <td>83.147041</td>\n",
       "      <td>15379.258560</td>\n",
       "      <td>3.525963</td>\n",
       "      <td>106.145510</td>\n",
       "      <td>0.248183</td>\n",
       "      <td>6</td>\n",
       "      <td>5</td>\n",
       "    </tr>\n",
       "  </tbody>\n",
       "</table>\n",
       "</div>"
      ],
      "text/plain": [
       "     Country        L1Name          L2Namev2  BECNURBPTCHL2  BECPTCHDENSL2  \\\n",
       "0  Argentina  Bahia Blanca      Bahía Blanca            487         0.2131   \n",
       "1  Argentina  Buenos Aires  CABA - Comuna 12              1         0.0642   \n",
       "2  Argentina  Buenos Aires  CABA - Comuna 13             13         0.8836   \n",
       "3  Argentina  Buenos Aires   CABA - Comuna 4              8         0.3611   \n",
       "4  Argentina  Buenos Aires   CABA - Comuna 6              1         0.1460   \n",
       "\n",
       "   BECAWMNSHPINDXL2  BECAWMNNNGHL2  BECEFFMESHSIZEL2  BECAWAVGPTCHAREAL2  \\\n",
       "0            5.1337        76.6491           77.6599           2644.8742   \n",
       "1            1.4735            NaN         1557.1800           1557.1800   \n",
       "2            2.5395        60.0462         1264.0834           1359.9129   \n",
       "3            2.2122        67.1673         1990.2022           2091.1138   \n",
       "4            1.2914            NaN          684.9000            684.9000   \n",
       "\n",
       "   BECAWEDGDENSL2  BECPRSBRTL2  BECPRSSUBWAYL2  BECADCRCTYAVGL2  \\\n",
       "0        0.420828            0               0         1.032761   \n",
       "1       14.988633            1               1         1.010627   \n",
       "2       24.739527            1               1         1.026108   \n",
       "3       18.119355            1               1         1.027101   \n",
       "4       19.798511            0               1         1.005764   \n",
       "\n",
       "   BECADINTDENSL2  BECADSTTDENSL2  BECADSTTPNODEAVGL2  BECADSTTLGAVGL2  \\\n",
       "0        3.672485      939.287799            3.411006       144.004054   \n",
       "1      102.376535    18590.830836            3.619105        99.891610   \n",
       "2       90.571453    16060.259206            3.473831        98.454629   \n",
       "3       79.577418    14502.014548            3.361758       104.423094   \n",
       "4       83.147041    15379.258560            3.525963       106.145510   \n",
       "\n",
       "   BECURBTRVDELAYINDEXL2  urb-perfil  stt-perfil  \n",
       "0               0.104629           1           6  \n",
       "1               0.168965           6           5  \n",
       "2               0.240852           2           5  \n",
       "3               0.156420           2           5  \n",
       "4               0.248183           6           5  "
      ]
     },
     "execution_count": 7,
     "metadata": {},
     "output_type": "execute_result"
    }
   ],
   "source": [
    "salurbal_df.head()"
   ]
  },
  {
   "cell_type": "markdown",
   "metadata": {},
   "source": [
    "# Data Cleaning"
   ]
  },
  {
   "cell_type": "code",
   "execution_count": 8,
   "metadata": {},
   "outputs": [],
   "source": [
    "# Crea una columna contando la cantidad de valores faltantes\n",
    "salurbal_df[ 'missings' ] = salurbal_df.isnull().sum( axis = 1 )"
   ]
  },
  {
   "cell_type": "code",
   "execution_count": 9,
   "metadata": {},
   "outputs": [
    {
     "data": {
      "text/plain": [
       "0    1294\n",
       "1      57\n",
       "Name: missings, dtype: int64"
      ]
     },
     "execution_count": 9,
     "metadata": {},
     "output_type": "execute_result"
    }
   ],
   "source": [
    "salurbal_df[ 'missings' ].value_counts( dropna = False )"
   ]
  },
  {
   "cell_type": "code",
   "execution_count": 10,
   "metadata": {},
   "outputs": [],
   "source": [
    "del salurbal_df[ 'missings' ]"
   ]
  },
  {
   "cell_type": "code",
   "execution_count": 11,
   "metadata": {},
   "outputs": [],
   "source": [
    "#features = salurbal_df.columns[ 2:-2 ].tolist()"
   ]
  },
  {
   "cell_type": "code",
   "execution_count": 12,
   "metadata": {},
   "outputs": [],
   "source": [
    "salurbal_df.rename( columns = { 'stt-perfil' : 'TR_PROFILE', 'urb-perfil' : 'UL_PROFILE' }, inplace = True )"
   ]
  },
  {
   "cell_type": "code",
   "execution_count": 18,
   "metadata": {},
   "outputs": [
    {
     "data": {
      "text/plain": [
       "['BECNURBPTCH',\n",
       " 'BECPTCHDENS',\n",
       " 'BECAWMNSHPINDX',\n",
       " 'BECAWMNNNGH',\n",
       " 'BECEFFMESHSIZE',\n",
       " 'BECAWAVGPTCHAREA',\n",
       " 'BECAWEDGDENS',\n",
       " 'BECPRSBRT',\n",
       " 'BECPRSSUBWAY',\n",
       " 'BECADCRCTYAVG',\n",
       " 'BECADINTDENS',\n",
       " 'BECADSTTDENS',\n",
       " 'BECADSTTPNODEAVG',\n",
       " 'BECADSTTLGAVG',\n",
       " 'BECURBTRVDELAYINDEX']"
      ]
     },
     "execution_count": 18,
     "metadata": {},
     "output_type": "execute_result"
    }
   ],
   "source": [
    "[ feature.replace( dataset_sufix, '' ) for feature in salurbal_df.columns.tolist() if feature.endswith( dataset_sufix ) ]"
   ]
  },
  {
   "cell_type": "code",
   "execution_count": 19,
   "metadata": {},
   "outputs": [],
   "source": [
    "ul_features = [ 'BECAWMNSHPINDX', 'BECEFFMESHSIZE', 'BECAWMNNNGH', 'BECAWEDGDENS', 'BECPTCHDENS', 'BECAWAVGPTCHAREA' ]"
   ]
  },
  {
   "cell_type": "code",
   "execution_count": 20,
   "metadata": {},
   "outputs": [],
   "source": [
    "tr_features = [ 'BECADSTTDENS', 'BECADSTTLGAVG', 'BECADINTDENS', 'BECADCRCTYAVG', 'BECADSTTPNODEAVG' ]"
   ]
  },
  {
   "cell_type": "code",
   "execution_count": 21,
   "metadata": {},
   "outputs": [
    {
     "data": {
      "text/html": [
       "<div>\n",
       "<style scoped>\n",
       "    .dataframe tbody tr th:only-of-type {\n",
       "        vertical-align: middle;\n",
       "    }\n",
       "\n",
       "    .dataframe tbody tr th {\n",
       "        vertical-align: top;\n",
       "    }\n",
       "\n",
       "    .dataframe thead th {\n",
       "        text-align: right;\n",
       "    }\n",
       "</style>\n",
       "<table border=\"1\" class=\"dataframe\">\n",
       "  <thead>\n",
       "    <tr style=\"text-align: right;\">\n",
       "      <th></th>\n",
       "      <th>Country</th>\n",
       "      <th>L1Name</th>\n",
       "      <th>L2Namev2</th>\n",
       "      <th>BECNURBPTCHL2</th>\n",
       "      <th>BECPTCHDENSL2</th>\n",
       "      <th>BECAWMNSHPINDXL2</th>\n",
       "      <th>BECAWMNNNGHL2</th>\n",
       "      <th>BECEFFMESHSIZEL2</th>\n",
       "      <th>BECAWAVGPTCHAREAL2</th>\n",
       "      <th>BECAWEDGDENSL2</th>\n",
       "      <th>BECPRSBRTL2</th>\n",
       "      <th>BECPRSSUBWAYL2</th>\n",
       "      <th>BECADCRCTYAVGL2</th>\n",
       "      <th>BECADINTDENSL2</th>\n",
       "      <th>BECADSTTDENSL2</th>\n",
       "      <th>BECADSTTPNODEAVGL2</th>\n",
       "      <th>BECADSTTLGAVGL2</th>\n",
       "      <th>BECURBTRVDELAYINDEXL2</th>\n",
       "      <th>UL_PROFILE</th>\n",
       "      <th>TR_PROFILE</th>\n",
       "    </tr>\n",
       "  </thead>\n",
       "  <tbody>\n",
       "    <tr>\n",
       "      <th>0</th>\n",
       "      <td>Argentina</td>\n",
       "      <td>Bahia Blanca</td>\n",
       "      <td>Bahía Blanca</td>\n",
       "      <td>487</td>\n",
       "      <td>0.2131</td>\n",
       "      <td>5.1337</td>\n",
       "      <td>76.6491</td>\n",
       "      <td>77.6599</td>\n",
       "      <td>2644.8742</td>\n",
       "      <td>0.420828</td>\n",
       "      <td>0</td>\n",
       "      <td>0</td>\n",
       "      <td>1.032761</td>\n",
       "      <td>3.672485</td>\n",
       "      <td>939.287799</td>\n",
       "      <td>3.411006</td>\n",
       "      <td>144.004054</td>\n",
       "      <td>0.104629</td>\n",
       "      <td>1</td>\n",
       "      <td>6</td>\n",
       "    </tr>\n",
       "    <tr>\n",
       "      <th>1</th>\n",
       "      <td>Argentina</td>\n",
       "      <td>Buenos Aires</td>\n",
       "      <td>CABA - Comuna 12</td>\n",
       "      <td>1</td>\n",
       "      <td>0.0642</td>\n",
       "      <td>1.4735</td>\n",
       "      <td>NaN</td>\n",
       "      <td>1557.1800</td>\n",
       "      <td>1557.1800</td>\n",
       "      <td>14.988633</td>\n",
       "      <td>1</td>\n",
       "      <td>1</td>\n",
       "      <td>1.010627</td>\n",
       "      <td>102.376535</td>\n",
       "      <td>18590.830836</td>\n",
       "      <td>3.619105</td>\n",
       "      <td>99.891610</td>\n",
       "      <td>0.168965</td>\n",
       "      <td>6</td>\n",
       "      <td>5</td>\n",
       "    </tr>\n",
       "    <tr>\n",
       "      <th>2</th>\n",
       "      <td>Argentina</td>\n",
       "      <td>Buenos Aires</td>\n",
       "      <td>CABA - Comuna 13</td>\n",
       "      <td>13</td>\n",
       "      <td>0.8836</td>\n",
       "      <td>2.5395</td>\n",
       "      <td>60.0462</td>\n",
       "      <td>1264.0834</td>\n",
       "      <td>1359.9129</td>\n",
       "      <td>24.739527</td>\n",
       "      <td>1</td>\n",
       "      <td>1</td>\n",
       "      <td>1.026108</td>\n",
       "      <td>90.571453</td>\n",
       "      <td>16060.259206</td>\n",
       "      <td>3.473831</td>\n",
       "      <td>98.454629</td>\n",
       "      <td>0.240852</td>\n",
       "      <td>2</td>\n",
       "      <td>5</td>\n",
       "    </tr>\n",
       "    <tr>\n",
       "      <th>3</th>\n",
       "      <td>Argentina</td>\n",
       "      <td>Buenos Aires</td>\n",
       "      <td>CABA - Comuna 4</td>\n",
       "      <td>8</td>\n",
       "      <td>0.3611</td>\n",
       "      <td>2.2122</td>\n",
       "      <td>67.1673</td>\n",
       "      <td>1990.2022</td>\n",
       "      <td>2091.1138</td>\n",
       "      <td>18.119355</td>\n",
       "      <td>1</td>\n",
       "      <td>1</td>\n",
       "      <td>1.027101</td>\n",
       "      <td>79.577418</td>\n",
       "      <td>14502.014548</td>\n",
       "      <td>3.361758</td>\n",
       "      <td>104.423094</td>\n",
       "      <td>0.156420</td>\n",
       "      <td>2</td>\n",
       "      <td>5</td>\n",
       "    </tr>\n",
       "    <tr>\n",
       "      <th>4</th>\n",
       "      <td>Argentina</td>\n",
       "      <td>Buenos Aires</td>\n",
       "      <td>CABA - Comuna 6</td>\n",
       "      <td>1</td>\n",
       "      <td>0.1460</td>\n",
       "      <td>1.2914</td>\n",
       "      <td>NaN</td>\n",
       "      <td>684.9000</td>\n",
       "      <td>684.9000</td>\n",
       "      <td>19.798511</td>\n",
       "      <td>0</td>\n",
       "      <td>1</td>\n",
       "      <td>1.005764</td>\n",
       "      <td>83.147041</td>\n",
       "      <td>15379.258560</td>\n",
       "      <td>3.525963</td>\n",
       "      <td>106.145510</td>\n",
       "      <td>0.248183</td>\n",
       "      <td>6</td>\n",
       "      <td>5</td>\n",
       "    </tr>\n",
       "  </tbody>\n",
       "</table>\n",
       "</div>"
      ],
      "text/plain": [
       "     Country        L1Name          L2Namev2  BECNURBPTCHL2  BECPTCHDENSL2  \\\n",
       "0  Argentina  Bahia Blanca      Bahía Blanca            487         0.2131   \n",
       "1  Argentina  Buenos Aires  CABA - Comuna 12              1         0.0642   \n",
       "2  Argentina  Buenos Aires  CABA - Comuna 13             13         0.8836   \n",
       "3  Argentina  Buenos Aires   CABA - Comuna 4              8         0.3611   \n",
       "4  Argentina  Buenos Aires   CABA - Comuna 6              1         0.1460   \n",
       "\n",
       "   BECAWMNSHPINDXL2  BECAWMNNNGHL2  BECEFFMESHSIZEL2  BECAWAVGPTCHAREAL2  \\\n",
       "0            5.1337        76.6491           77.6599           2644.8742   \n",
       "1            1.4735            NaN         1557.1800           1557.1800   \n",
       "2            2.5395        60.0462         1264.0834           1359.9129   \n",
       "3            2.2122        67.1673         1990.2022           2091.1138   \n",
       "4            1.2914            NaN          684.9000            684.9000   \n",
       "\n",
       "   BECAWEDGDENSL2  BECPRSBRTL2  BECPRSSUBWAYL2  BECADCRCTYAVGL2  \\\n",
       "0        0.420828            0               0         1.032761   \n",
       "1       14.988633            1               1         1.010627   \n",
       "2       24.739527            1               1         1.026108   \n",
       "3       18.119355            1               1         1.027101   \n",
       "4       19.798511            0               1         1.005764   \n",
       "\n",
       "   BECADINTDENSL2  BECADSTTDENSL2  BECADSTTPNODEAVGL2  BECADSTTLGAVGL2  \\\n",
       "0        3.672485      939.287799            3.411006       144.004054   \n",
       "1      102.376535    18590.830836            3.619105        99.891610   \n",
       "2       90.571453    16060.259206            3.473831        98.454629   \n",
       "3       79.577418    14502.014548            3.361758       104.423094   \n",
       "4       83.147041    15379.258560            3.525963       106.145510   \n",
       "\n",
       "   BECURBTRVDELAYINDEXL2  UL_PROFILE  TR_PROFILE  \n",
       "0               0.104629           1           6  \n",
       "1               0.168965           6           5  \n",
       "2               0.240852           2           5  \n",
       "3               0.156420           2           5  \n",
       "4               0.248183           6           5  "
      ]
     },
     "execution_count": 21,
     "metadata": {},
     "output_type": "execute_result"
    }
   ],
   "source": [
    "salurbal_df.head()"
   ]
  },
  {
   "cell_type": "markdown",
   "metadata": {},
   "source": [
    "# Data Exploration"
   ]
  },
  {
   "cell_type": "code",
   "execution_count": null,
   "metadata": {},
   "outputs": [],
   "source": []
  },
  {
   "cell_type": "code",
   "execution_count": null,
   "metadata": {},
   "outputs": [],
   "source": [
    "sns.pairplot( salurbal_df, vars = ul_features, hue = 'UL_PROFILE' )"
   ]
  },
  {
   "cell_type": "code",
   "execution_count": null,
   "metadata": {},
   "outputs": [],
   "source": [
    "sns.pairplot( salurbal_df, vars = tr_features, hue = 'TR_PROFILE' )"
   ]
  },
  {
   "cell_type": "markdown",
   "metadata": {},
   "source": [
    "# Geocoding"
   ]
  },
  {
   "cell_type": "code",
   "execution_count": null,
   "metadata": {},
   "outputs": [],
   "source": [
    "GOOGLE_API = os.environ[ 'GOOGLE_API' ]\n",
    "URL = 'https://maps.googleapis.com/maps/api/geocode/json'"
   ]
  },
  {
   "cell_type": "code",
   "execution_count": null,
   "metadata": {},
   "outputs": [],
   "source": [
    "for index, row in salurbal_df.iterrows():\n",
    "    try:\n",
    "        #print( index )\n",
    "        address = row[ 'L2Namev2' ] + ', ' + row[ 'L1Name' ] + ', ' + row[ 'Country' ]\n",
    "        #print( address )\n",
    "        data = requests.get( URL, params = { 'key' : GOOGLE_API, 'address' : address } ).json()\n",
    "        lat = data[ 'results' ][ 0 ][ 'geometry' ][ 'location' ][ 'lat' ]\n",
    "        lng = data[ 'results' ][ 0 ][ 'geometry' ][ 'location' ][ 'lng' ]\n",
    "        salurbal_df.loc[ index, 'CentLatitude' ] = lat\n",
    "        salurbal_df.loc[ index, 'CentLongitude' ] = lng\n",
    "    except IndexError:\n",
    "        pass\n",
    "    except TypeError:\n",
    "        pass"
   ]
  },
  {
   "cell_type": "markdown",
   "metadata": {},
   "source": [
    "salurbal_geo_df = pd.read_excel( '../data/SALURBAL_L2_geocoding.xlsx' )"
   ]
  },
  {
   "cell_type": "markdown",
   "metadata": {},
   "source": [
    "salurbal_geo_df.shape"
   ]
  },
  {
   "cell_type": "markdown",
   "metadata": {},
   "source": [
    "salurbal_df = salurbal_df.merge( salurbal_geo_df[ [ 'Country', 'L2Namev2', 'CentLongitude', 'CentLatitude' ] ], on = [ 'Country', 'L2Namev2' ], how = 'left' )"
   ]
  },
  {
   "cell_type": "code",
   "execution_count": null,
   "metadata": {},
   "outputs": [],
   "source": [
    "salurbal_df.head()"
   ]
  },
  {
   "cell_type": "code",
   "execution_count": null,
   "metadata": {},
   "outputs": [],
   "source": [
    "salurbal_df.shape"
   ]
  },
  {
   "cell_type": "code",
   "execution_count": null,
   "metadata": {},
   "outputs": [],
   "source": [
    "salurbal_df[ 'CentLongitude' ].isnull().sum()"
   ]
  },
  {
   "cell_type": "markdown",
   "metadata": {},
   "source": [
    "# Complementary Clustering"
   ]
  },
  {
   "cell_type": "markdown",
   "metadata": {},
   "source": [
    "### K-Means"
   ]
  },
  {
   "cell_type": "markdown",
   "metadata": {},
   "source": [
    "kmeans_pipeline = Pipeline( [\n",
    "    ( 'scaling', StandardScaler() ),\n",
    "    ( 'clustering', KMeans( n_clusters = 5, n_jobs = -1, random_state = 1 ) )\n",
    "] )"
   ]
  },
  {
   "cell_type": "markdown",
   "metadata": {},
   "source": [
    "kmeans_mbe_salurbal = kmeans_pipeline.fit_predict( salurbal_df[ mbe_features ] )\n",
    "\n",
    "for i in range( kmeans_mbe_salurbal.shape[ 0 ] ):\n",
    "    kmeans_mbe_salurbal[ i ] = kmeans_mbe_salurbal[ i ] + 1"
   ]
  },
  {
   "cell_type": "markdown",
   "metadata": {},
   "source": [
    "kmeans_mt_salurbal = kmeans_pipeline.fit_predict( salurbal_df[ mt_features ] )\n",
    "\n",
    "for i in range( kmeans_mt_salurbal.shape[ 0 ] ):\n",
    "    kmeans_mt_salurbal[ i ] = kmeans_mt_salurbal[ i ] + 1"
   ]
  },
  {
   "cell_type": "markdown",
   "metadata": {},
   "source": [
    "salurbal_df[ 'MBE_CLUSTER_KMEANS' ] = kmeans_mbe_salurbal\n",
    "\n",
    "salurbal_df[ 'MT_CLUSTER_KMEANS' ] = kmeans_mt_salurbal"
   ]
  },
  {
   "cell_type": "markdown",
   "metadata": {},
   "source": [
    "salurbal_df[ 'MBE_CLUSTER_KMEANS' ].value_counts( dropna = False )"
   ]
  },
  {
   "cell_type": "markdown",
   "metadata": {},
   "source": [
    "salurbal_df[ 'MT_CLUSTER_KMEANS' ].value_counts( dropna = False )"
   ]
  },
  {
   "cell_type": "markdown",
   "metadata": {},
   "source": [
    "sns.pairplot( salurbal_df, vars = mbe_features, hue = 'MBE_CLUSTER_KMEANS' )"
   ]
  },
  {
   "cell_type": "markdown",
   "metadata": {},
   "source": [
    "sns.pairplot( salurbal_df, vars = mt_features, hue = 'MT_CLUSTER_KMEANS' )"
   ]
  },
  {
   "cell_type": "markdown",
   "metadata": {},
   "source": [
    "### Spectral Clustering"
   ]
  },
  {
   "cell_type": "markdown",
   "metadata": {},
   "source": [
    "spectral_pipeline = Pipeline( [\n",
    "    ( 'scaling', StandardScaler() ),\n",
    "    ( 'clustering', SpectralClustering( n_clusters = 5, n_jobs = -1, random_state = 1 ) )\n",
    "] )"
   ]
  },
  {
   "cell_type": "markdown",
   "metadata": {},
   "source": [
    "spectral_mbe_salurbal = spectral_pipeline.fit_predict( salurbal_df[ mbe_features ] )\n",
    "\n",
    "for i in range( spectral_mbe_salurbal.shape[ 0 ] ):\n",
    "    spectral_mbe_salurbal[ i ] = spectral_mbe_salurbal[ i ] + 1"
   ]
  },
  {
   "cell_type": "markdown",
   "metadata": {},
   "source": [
    "spectral_mt_salurbal = spectral_pipeline.fit_predict( salurbal_df[ mt_features ] )\n",
    "\n",
    "for i in range( spectral_mt_salurbal.shape[ 0 ] ):\n",
    "    spectral_mt_salurbal[ i ] = spectral_mt_salurbal[ i ] + 1"
   ]
  },
  {
   "cell_type": "markdown",
   "metadata": {},
   "source": [
    "salurbal_df[ 'MBE_CLUSTER_SPECTRAL' ] = spectral_mbe_salurbal\n",
    "\n",
    "salurbal_df[ 'MT_CLUSTER_SPECTRAL' ] = spectral_mt_salurbal"
   ]
  },
  {
   "cell_type": "markdown",
   "metadata": {},
   "source": [
    "salurbal_df[ 'MBE_CLUSTER_SPECTRAL' ].value_counts( dropna = False )"
   ]
  },
  {
   "cell_type": "markdown",
   "metadata": {},
   "source": [
    "salurbal_df[ 'MT_CLUSTER_SPECTRAL' ].value_counts( dropna = False )"
   ]
  },
  {
   "cell_type": "markdown",
   "metadata": {},
   "source": [
    "sns.pairplot( salurbal_df, vars = mbe_features, hue = 'MBE_CLUSTER_SPECTRAL' )"
   ]
  },
  {
   "cell_type": "markdown",
   "metadata": {},
   "source": [
    "sns.pairplot( salurbal_df, vars = mt_features, hue = 'MT_CLUSTER_SPECTRAL' )"
   ]
  },
  {
   "cell_type": "markdown",
   "metadata": {},
   "source": [
    "# Dimensionality Reduction"
   ]
  },
  {
   "cell_type": "markdown",
   "metadata": {},
   "source": [
    "### T-SNE"
   ]
  },
  {
   "cell_type": "code",
   "execution_count": null,
   "metadata": {},
   "outputs": [],
   "source": [
    "tsne_pipeline = Pipeline( [\n",
    "    ( 'scaling', StandardScaler() ),\n",
    "    ( 'dimred', TSNE( n_iter = 2000, random_state = 1 ) )\n",
    "] )"
   ]
  },
  {
   "cell_type": "code",
   "execution_count": null,
   "metadata": {},
   "outputs": [],
   "source": [
    "tsne_ul_salurbal = tsne_pipeline.fit_transform( salurbal_df[ ul_features ] )"
   ]
  },
  {
   "cell_type": "code",
   "execution_count": null,
   "metadata": {},
   "outputs": [],
   "source": [
    "tsne_tr_salurbal = tsne_pipeline.fit_transform( salurbal_df[ tr_features ] )"
   ]
  },
  {
   "cell_type": "code",
   "execution_count": null,
   "metadata": {},
   "outputs": [],
   "source": [
    "salurbal_df[ 'TSNE_UL_X' ] = tsne_ul_salurbal[ :, 0 ]\n",
    "salurbal_df[ 'TSNE_UL_Y' ] = tsne_ul_salurbal[ :, 1 ]\n",
    "\n",
    "salurbal_df[ 'TSNE_TR_X' ] = tsne_tr_salurbal[ :, 0 ]\n",
    "salurbal_df[ 'TSNE_TR_Y' ] = tsne_tr_salurbal[ :, 1 ]"
   ]
  },
  {
   "cell_type": "markdown",
   "metadata": {},
   "source": [
    "### PCA"
   ]
  },
  {
   "cell_type": "code",
   "execution_count": null,
   "metadata": {},
   "outputs": [],
   "source": [
    "pca_pipeline = Pipeline( [\n",
    "    ( 'scaling', StandardScaler() ),\n",
    "    ( 'dimred', PCA( n_components = 2, random_state = 1 ) )\n",
    "] )"
   ]
  },
  {
   "cell_type": "code",
   "execution_count": null,
   "metadata": {},
   "outputs": [],
   "source": [
    "pca_ul_salurbal = pca_pipeline.fit_transform( salurbal_df[ ul_features ] )\n",
    "pca_pipeline.named_steps[ 'dimred' ].explained_variance_ratio_"
   ]
  },
  {
   "cell_type": "code",
   "execution_count": null,
   "metadata": {},
   "outputs": [],
   "source": [
    "pca_tr_salurbal = pca_pipeline.fit_transform( salurbal_df[ tr_features ] )\n",
    "pca_pipeline.named_steps[ 'dimred' ].explained_variance_ratio_"
   ]
  },
  {
   "cell_type": "code",
   "execution_count": null,
   "metadata": {},
   "outputs": [],
   "source": [
    "salurbal_df[ 'PCA_UL_X' ] = pca_ul_salurbal[ :, 0 ]\n",
    "salurbal_df[ 'PCA_UL_Y' ] = pca_ul_salurbal[ :, 1 ]\n",
    "\n",
    "salurbal_df[ 'PCA_TR_X' ] = pca_tr_salurbal[ :, 0 ]\n",
    "salurbal_df[ 'PCA_TR_Y' ] = pca_tr_salurbal[ :, 1 ]"
   ]
  },
  {
   "cell_type": "markdown",
   "metadata": {},
   "source": [
    "### UMAP"
   ]
  },
  {
   "cell_type": "code",
   "execution_count": null,
   "metadata": {},
   "outputs": [],
   "source": [
    "umap_pipeline = Pipeline( [\n",
    "    ( 'scaling', StandardScaler() ),\n",
    "    ( 'dimred', umap.UMAP() )\n",
    "] )"
   ]
  },
  {
   "cell_type": "code",
   "execution_count": null,
   "metadata": {},
   "outputs": [],
   "source": [
    "umap_ul_salurbal = umap_pipeline.fit_transform( salurbal_df[ ul_features ] )"
   ]
  },
  {
   "cell_type": "code",
   "execution_count": null,
   "metadata": {},
   "outputs": [],
   "source": [
    "umap_tr_salurbal = umap_pipeline.fit_transform( salurbal_df[ tr_features ] )"
   ]
  },
  {
   "cell_type": "code",
   "execution_count": null,
   "metadata": {},
   "outputs": [],
   "source": [
    "salurbal_df[ 'UMAP_UL_X' ] = umap_ul_salurbal[ :, 0 ]\n",
    "salurbal_df[ 'UMAP_UL_Y' ] = umap_ul_salurbal[ :, 1 ]\n",
    "\n",
    "salurbal_df[ 'UMAP_TR_X' ] = umap_tr_salurbal[ :, 0 ]\n",
    "salurbal_df[ 'UMAP_TR_Y' ] = umap_tr_salurbal[ :, 1 ]"
   ]
  },
  {
   "cell_type": "markdown",
   "metadata": {},
   "source": [
    "# Visualization"
   ]
  },
  {
   "cell_type": "code",
   "execution_count": null,
   "metadata": {},
   "outputs": [],
   "source": [
    "f, ( ax1, ax2, ax3 ) = plt.subplots( 1, 3,  figsize = ( 25, 7 ) )\n",
    "\n",
    "model = 'UL'\n",
    "clustering = ''\n",
    "methods = { 'PCA' : ax1, 'TSNE' : ax2, 'UMAP' : ax3 }\n",
    "for method in methods:\n",
    "    for c in range( 1, 7 ):\n",
    "        methods[ method ].scatter( salurbal_df.loc[ salurbal_df[ model + '_PROFILE' + clustering ] == c ][ method + '_' + model + '_X' ], salurbal_df.loc[ salurbal_df[ model + '_PROFILE' + clustering ] == c ][ method + '_' + model + '_Y' ], label = str( c ), edgecolor = 'black', alpha = 0.5 )\n",
    "    methods[ method ].set_title( method )\n",
    "    methods[ method ].legend()\n",
    "plt.show()"
   ]
  },
  {
   "cell_type": "markdown",
   "metadata": {},
   "source": [
    "f, ( ax1, ax2, ax3 ) = plt.subplots( 1, 3,  figsize = ( 25, 7 ) )\n",
    "\n",
    "model = 'MBE'\n",
    "clustering = '_KMEANS'\n",
    "methods = { 'PCA' : ax1, 'TSNE' : ax2, 'UMAP' : ax3 }\n",
    "for method in methods:\n",
    "    for c in range( 1, 6 ):\n",
    "        methods[ method ].scatter( salurbal_df.loc[ salurbal_df[ model + '_CLUSTER' + clustering ] == c ][ method + '_' + model + '_X' ], salurbal_df.loc[ salurbal_df[ model + '_CLUSTER' + clustering ] == c ][ method + '_' + model + '_Y' ], label = str( c ), edgecolor = 'black', alpha = 0.5 )\n",
    "    methods[ method ].set_title( method )\n",
    "    methods[ method ].legend()\n",
    "plt.show()"
   ]
  },
  {
   "cell_type": "markdown",
   "metadata": {},
   "source": [
    "f, ( ax1, ax2, ax3 ) = plt.subplots( 1, 3,  figsize = ( 25, 7 ) )\n",
    "\n",
    "model = 'MBE'\n",
    "clustering = '_SPECTRAL'\n",
    "methods = { 'PCA' : ax1, 'TSNE' : ax2, 'UMAP' : ax3 }\n",
    "for method in methods:\n",
    "    for c in range( 1, 6 ):\n",
    "        methods[ method ].scatter( salurbal_df.loc[ salurbal_df[ model + '_CLUSTER' + clustering ] == c ][ method + '_' + model + '_X' ], salurbal_df.loc[ salurbal_df[ model + '_CLUSTER' + clustering ] == c ][ method + '_' + model + '_Y' ], label = str( c ), edgecolor = 'black', alpha = 0.5 )\n",
    "    methods[ method ].set_title( method )\n",
    "    methods[ method ].legend()\n",
    "plt.show()"
   ]
  },
  {
   "cell_type": "code",
   "execution_count": null,
   "metadata": {},
   "outputs": [],
   "source": [
    "f, ( ax1, ax2, ax3 ) = plt.subplots( 1, 3,  figsize = ( 25, 7 ) )\n",
    "\n",
    "model = 'TR'\n",
    "clustering = ''\n",
    "methods = { 'PCA' : ax1, 'TSNE' : ax2, 'UMAP' : ax3 }\n",
    "for method in methods:\n",
    "    for c in range( 1, 7 ):\n",
    "        methods[ method ].scatter( salurbal_df.loc[ salurbal_df[ model + '_PROFILE' + clustering ] == c ][ method + '_' + model + '_X' ], salurbal_df.loc[ salurbal_df[ model + '_PROFILE' + clustering ] == c ][ method + '_' + model + '_Y' ], label = str( c ), edgecolor = 'black', alpha = 0.5 )\n",
    "    methods[ method ].set_title( method )\n",
    "    methods[ method ].legend()\n",
    "plt.show()"
   ]
  },
  {
   "cell_type": "markdown",
   "metadata": {},
   "source": [
    "f, ( ax1, ax2, ax3 ) = plt.subplots( 1, 3,  figsize = ( 25, 7 ) )\n",
    "\n",
    "model = 'MT'\n",
    "clustering = '_KMEANS'\n",
    "methods = { 'PCA' : ax1, 'TSNE' : ax2, 'UMAP' : ax3 }\n",
    "for method in methods:\n",
    "    for c in range( 1, 6 ):\n",
    "        methods[ method ].scatter( salurbal_df.loc[ salurbal_df[ model + '_CLUSTER' + clustering ] == c ][ method + '_' + model + '_X' ], salurbal_df.loc[ salurbal_df[ model + '_CLUSTER' + clustering ] == c ][ method + '_' + model + '_Y' ], label = str( c ), edgecolor = 'black', alpha = 0.5 )\n",
    "    methods[ method ].set_title( method )\n",
    "    methods[ method ].legend()\n",
    "plt.show()"
   ]
  },
  {
   "cell_type": "markdown",
   "metadata": {},
   "source": [
    "f, ( ax1, ax2, ax3 ) = plt.subplots( 1, 3,  figsize = ( 25, 7 ) )\n",
    "\n",
    "model = 'MT'\n",
    "clustering = '_SPECTRAL'\n",
    "methods = { 'PCA' : ax1, 'TSNE' : ax2, 'UMAP' : ax3 }\n",
    "for method in methods:\n",
    "    for c in range( 1, 6 ):\n",
    "        methods[ method ].scatter( salurbal_df.loc[ salurbal_df[ model + '_CLUSTER' + clustering ] == c ][ method + '_' + model + '_X' ], salurbal_df.loc[ salurbal_df[ model + '_CLUSTER' + clustering ] == c ][ method + '_' + model + '_Y' ], label = str( c ), edgecolor = 'black', alpha = 0.5 )\n",
    "    methods[ method ].set_title( method )\n",
    "    methods[ method ].legend()\n",
    "plt.show()"
   ]
  },
  {
   "cell_type": "code",
   "execution_count": null,
   "metadata": {},
   "outputs": [],
   "source": [
    "salurbal_df.head()"
   ]
  },
  {
   "cell_type": "code",
   "execution_count": null,
   "metadata": {},
   "outputs": [],
   "source": [
    "salurbal_df.to_csv( '../data/modelos_l2.csv', sep = ';', decimal = ',', index = False )"
   ]
  },
  {
   "cell_type": "code",
   "execution_count": null,
   "metadata": {},
   "outputs": [],
   "source": []
  },
  {
   "cell_type": "markdown",
   "metadata": {},
   "source": [
    "# Explanations"
   ]
  },
  {
   "cell_type": "code",
   "execution_count": null,
   "metadata": {},
   "outputs": [],
   "source": [
    "import lime\n",
    "import lime.lime_tabular"
   ]
  },
  {
   "cell_type": "code",
   "execution_count": null,
   "metadata": {},
   "outputs": [],
   "source": []
  },
  {
   "cell_type": "code",
   "execution_count": null,
   "metadata": {},
   "outputs": [],
   "source": []
  },
  {
   "cell_type": "code",
   "execution_count": null,
   "metadata": {},
   "outputs": [],
   "source": []
  },
  {
   "cell_type": "code",
   "execution_count": null,
   "metadata": {},
   "outputs": [],
   "source": [
    "import sklearn\n",
    "import sklearn.datasets\n",
    "import sklearn.ensemble\n",
    "import numpy as np\n",
    "import lime\n",
    "import lime.lime_tabular\n",
    "from __future__ import print_function\n",
    "np.random.seed(1)"
   ]
  },
  {
   "cell_type": "code",
   "execution_count": null,
   "metadata": {},
   "outputs": [],
   "source": [
    "iris = sklearn.datasets.load_iris()"
   ]
  },
  {
   "cell_type": "code",
   "execution_count": null,
   "metadata": {},
   "outputs": [],
   "source": [
    "train, test, labels_train, labels_test = sklearn.model_selection.train_test_split(iris.data, iris.target, train_size=0.80)"
   ]
  },
  {
   "cell_type": "code",
   "execution_count": null,
   "metadata": {},
   "outputs": [],
   "source": [
    "rf = sklearn.ensemble.RandomForestClassifier(n_estimators=500)\n",
    "rf.fit(train, labels_train)"
   ]
  },
  {
   "cell_type": "code",
   "execution_count": null,
   "metadata": {},
   "outputs": [],
   "source": [
    "sklearn.metrics.accuracy_score(labels_test, rf.predict(test))"
   ]
  },
  {
   "cell_type": "code",
   "execution_count": null,
   "metadata": {},
   "outputs": [],
   "source": [
    "iris.target_names"
   ]
  },
  {
   "cell_type": "code",
   "execution_count": null,
   "metadata": {},
   "outputs": [],
   "source": [
    "explainer = lime.lime_tabular.LimeTabularExplainer(train, feature_names=iris.feature_names, class_names=iris.target_names, discretize_continuous=True)"
   ]
  },
  {
   "cell_type": "code",
   "execution_count": null,
   "metadata": {},
   "outputs": [],
   "source": [
    "i = np.random.randint(0, test.shape[0])\n",
    "exp = explainer.explain_instance(test[i], rf.predict_proba, num_features=2, top_labels=1)"
   ]
  },
  {
   "cell_type": "code",
   "execution_count": null,
   "metadata": {},
   "outputs": [],
   "source": [
    "exp.show_in_notebook(show_table=True, show_all=False)"
   ]
  },
  {
   "cell_type": "code",
   "execution_count": null,
   "metadata": {},
   "outputs": [],
   "source": [
    "test.shape"
   ]
  },
  {
   "cell_type": "code",
   "execution_count": null,
   "metadata": {},
   "outputs": [],
   "source": []
  },
  {
   "cell_type": "code",
   "execution_count": null,
   "metadata": {},
   "outputs": [],
   "source": []
  },
  {
   "cell_type": "code",
   "execution_count": null,
   "metadata": {},
   "outputs": [],
   "source": [
    "#salurbal_df[ [ 'MT_PROB1', 'MT_PROB2', 'MT_PROB3', 'MT_PROB4', 'MT_PROB5' ] ].sum( axis = 1 )"
   ]
  },
  {
   "cell_type": "code",
   "execution_count": null,
   "metadata": {},
   "outputs": [],
   "source": [
    "salurbal_df[ mt_features ].dtypes"
   ]
  },
  {
   "cell_type": "code",
   "execution_count": null,
   "metadata": {},
   "outputs": [],
   "source": [
    "salurbal_mx = salurbal_df[ mt_features ].values\n",
    "salurbal_mx.shape"
   ]
  },
  {
   "cell_type": "code",
   "execution_count": null,
   "metadata": {},
   "outputs": [],
   "source": [
    "salurbal_mx_probs = lambda x: salurbal_df[ [ 'MT_PROB1', 'MT_PROB2', 'MT_PROB3', 'MT_PROB4', 'MT_PROB5' ] ].values\n",
    "salurbal_mx_probs"
   ]
  },
  {
   "cell_type": "code",
   "execution_count": null,
   "metadata": {},
   "outputs": [],
   "source": [
    "salurbal_mx_probs( 1 )"
   ]
  },
  {
   "cell_type": "code",
   "execution_count": null,
   "metadata": {},
   "outputs": [],
   "source": [
    "explainer = lime.lime_tabular.LimeTabularExplainer( salurbal_mx, feature_names = mt_features, class_names = [ '1' , '2', '3', '4', '5' ] )"
   ]
  },
  {
   "cell_type": "code",
   "execution_count": null,
   "metadata": {},
   "outputs": [],
   "source": [
    "i = np.random.randint( 0, salurbal_mx.shape[ 0 ] )\n",
    "i"
   ]
  },
  {
   "cell_type": "code",
   "execution_count": null,
   "metadata": {},
   "outputs": [],
   "source": [
    "exp = explainer.explain_instance( salurbal_mx[ i ], salurbal_mx_probs, num_features = 7 )"
   ]
  },
  {
   "cell_type": "code",
   "execution_count": null,
   "metadata": {},
   "outputs": [],
   "source": []
  }
 ],
 "metadata": {
  "kernelspec": {
   "display_name": "Python 3",
   "language": "python",
   "name": "python3"
  },
  "language_info": {
   "codemirror_mode": {
    "name": "ipython",
    "version": 3
   },
   "file_extension": ".py",
   "mimetype": "text/x-python",
   "name": "python",
   "nbconvert_exporter": "python",
   "pygments_lexer": "ipython3",
   "version": "3.6.5"
  }
 },
 "nbformat": 4,
 "nbformat_minor": 2
}
