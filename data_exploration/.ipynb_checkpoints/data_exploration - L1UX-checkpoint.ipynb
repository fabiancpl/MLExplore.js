{
 "cells": [
  {
   "cell_type": "code",
   "execution_count": 1,
   "metadata": {},
   "outputs": [],
   "source": [
    "import os\n",
    "import requests\n",
    "import numpy as np\n",
    "import pandas as pd\n",
    "import pandas_profiling\n",
    "\n",
    "import matplotlib.pyplot as plt\n",
    "%matplotlib inline\n",
    "import seaborn as sns;\n",
    "\n",
    "from sklearn.preprocessing import StandardScaler\n",
    "\n",
    "from sklearn.cluster import KMeans, SpectralClustering\n",
    "\n",
    "from sklearn.manifold import TSNE\n",
    "from sklearn.decomposition import PCA\n",
    "\n",
    "from sklearn.pipeline import Pipeline\n",
    "\n",
    "import umap"
   ]
  },
  {
   "cell_type": "code",
   "execution_count": 2,
   "metadata": {},
   "outputs": [],
   "source": [
    "pd.options.display.max_columns = 200"
   ]
  },
  {
   "cell_type": "markdown",
   "metadata": {},
   "source": [
    "# Data Loading"
   ]
  },
  {
   "cell_type": "code",
   "execution_count": 3,
   "metadata": {},
   "outputs": [],
   "source": [
    "salurbal_df = pd.read_excel( '../data/datos l1ux.xlsx' )"
   ]
  },
  {
   "cell_type": "code",
   "execution_count": 5,
   "metadata": {},
   "outputs": [],
   "source": [
    "# Deleting columns\n",
    "del salurbal_df[ 'SALID1' ]"
   ]
  },
  {
   "cell_type": "code",
   "execution_count": 6,
   "metadata": {},
   "outputs": [
    {
     "data": {
      "text/plain": [
       "(368, 19)"
      ]
     },
     "execution_count": 6,
     "metadata": {},
     "output_type": "execute_result"
    }
   ],
   "source": [
    "salurbal_df.shape"
   ]
  },
  {
   "cell_type": "code",
   "execution_count": 7,
   "metadata": {},
   "outputs": [
    {
     "data": {
      "text/plain": [
       "Country                  object\n",
       "L1Name                   object\n",
       "BECTUAREAL1UX           float64\n",
       "BECNURBPTCHL1UX           int64\n",
       "BECPTCHDENSL1UX         float64\n",
       "BECAWMNSHPINDXL1UX      float64\n",
       "BECAWMNNNGHL1UX         float64\n",
       "BECEFFMESHSIZEL1UX      float64\n",
       "BECAWAVGPTCHAREAL1UX    float64\n",
       "BECAWEDGDENSL1UX        float64\n",
       "BECPRSBRTL1UX             int64\n",
       "BECPRSSUBWAYL1UX          int64\n",
       "BECADCRCTYAVGL1UX       float64\n",
       "BECADINTDENSL1UX        float64\n",
       "BECADSTTDENSL1UX        float64\n",
       "BECADSTTLGAVGL1UX       float64\n",
       "BECADSTTPNODEAVGL1UX    float64\n",
       "transporte                int64\n",
       "urbano                    int64\n",
       "dtype: object"
      ]
     },
     "execution_count": 7,
     "metadata": {},
     "output_type": "execute_result"
    }
   ],
   "source": [
    "salurbal_df.dtypes"
   ]
  },
  {
   "cell_type": "code",
   "execution_count": 8,
   "metadata": {},
   "outputs": [
    {
     "data": {
      "text/html": [
       "<div>\n",
       "<style scoped>\n",
       "    .dataframe tbody tr th:only-of-type {\n",
       "        vertical-align: middle;\n",
       "    }\n",
       "\n",
       "    .dataframe tbody tr th {\n",
       "        vertical-align: top;\n",
       "    }\n",
       "\n",
       "    .dataframe thead th {\n",
       "        text-align: right;\n",
       "    }\n",
       "</style>\n",
       "<table border=\"1\" class=\"dataframe\">\n",
       "  <thead>\n",
       "    <tr style=\"text-align: right;\">\n",
       "      <th></th>\n",
       "      <th>Country</th>\n",
       "      <th>L1Name</th>\n",
       "      <th>BECTUAREAL1UX</th>\n",
       "      <th>BECNURBPTCHL1UX</th>\n",
       "      <th>BECPTCHDENSL1UX</th>\n",
       "      <th>BECAWMNSHPINDXL1UX</th>\n",
       "      <th>BECAWMNNNGHL1UX</th>\n",
       "      <th>BECEFFMESHSIZEL1UX</th>\n",
       "      <th>BECAWAVGPTCHAREAL1UX</th>\n",
       "      <th>BECAWEDGDENSL1UX</th>\n",
       "      <th>BECPRSBRTL1UX</th>\n",
       "      <th>BECPRSSUBWAYL1UX</th>\n",
       "      <th>BECADCRCTYAVGL1UX</th>\n",
       "      <th>BECADINTDENSL1UX</th>\n",
       "      <th>BECADSTTDENSL1UX</th>\n",
       "      <th>BECADSTTLGAVGL1UX</th>\n",
       "      <th>BECADSTTPNODEAVGL1UX</th>\n",
       "      <th>transporte</th>\n",
       "      <th>urbano</th>\n",
       "    </tr>\n",
       "  </thead>\n",
       "  <tbody>\n",
       "    <tr>\n",
       "      <th>0</th>\n",
       "      <td>Argentina</td>\n",
       "      <td>Bahia Blanca</td>\n",
       "      <td>5936.8518</td>\n",
       "      <td>198</td>\n",
       "      <td>1.9180</td>\n",
       "      <td>5.1609</td>\n",
       "      <td>61.0614</td>\n",
       "      <td>1612.1203</td>\n",
       "      <td>2803.2783</td>\n",
       "      <td>9.017143</td>\n",
       "      <td>0</td>\n",
       "      <td>0</td>\n",
       "      <td>1.013586</td>\n",
       "      <td>6.048771</td>\n",
       "      <td>1172.638429</td>\n",
       "      <td>109.389079</td>\n",
       "      <td>3.446932</td>\n",
       "      <td>6</td>\n",
       "      <td>4</td>\n",
       "    </tr>\n",
       "    <tr>\n",
       "      <th>1</th>\n",
       "      <td>Argentina</td>\n",
       "      <td>Mar del Plata</td>\n",
       "      <td>9243.5409</td>\n",
       "      <td>153</td>\n",
       "      <td>1.1238</td>\n",
       "      <td>6.8723</td>\n",
       "      <td>60.8413</td>\n",
       "      <td>5883.8861</td>\n",
       "      <td>8666.1085</td>\n",
       "      <td>13.663430</td>\n",
       "      <td>0</td>\n",
       "      <td>0</td>\n",
       "      <td>1.011338</td>\n",
       "      <td>7.587916</td>\n",
       "      <td>1457.473841</td>\n",
       "      <td>102.798618</td>\n",
       "      <td>3.606951</td>\n",
       "      <td>2</td>\n",
       "      <td>1</td>\n",
       "    </tr>\n",
       "    <tr>\n",
       "      <th>2</th>\n",
       "      <td>Argentina</td>\n",
       "      <td>San Nicolas de los Arroyos</td>\n",
       "      <td>2481.7488</td>\n",
       "      <td>48</td>\n",
       "      <td>1.1257</td>\n",
       "      <td>4.3717</td>\n",
       "      <td>60.5104</td>\n",
       "      <td>957.0535</td>\n",
       "      <td>1644.4314</td>\n",
       "      <td>14.801846</td>\n",
       "      <td>0</td>\n",
       "      <td>0</td>\n",
       "      <td>1.019215</td>\n",
       "      <td>5.926909</td>\n",
       "      <td>1131.306722</td>\n",
       "      <td>107.018352</td>\n",
       "      <td>3.269688</td>\n",
       "      <td>6</td>\n",
       "      <td>2</td>\n",
       "    </tr>\n",
       "    <tr>\n",
       "      <th>3</th>\n",
       "      <td>Argentina</td>\n",
       "      <td>Tandil</td>\n",
       "      <td>2258.1900</td>\n",
       "      <td>90</td>\n",
       "      <td>2.4748</td>\n",
       "      <td>4.4081</td>\n",
       "      <td>61.6375</td>\n",
       "      <td>1149.8336</td>\n",
       "      <td>1851.7128</td>\n",
       "      <td>19.720400</td>\n",
       "      <td>0</td>\n",
       "      <td>0</td>\n",
       "      <td>1.018717</td>\n",
       "      <td>6.067776</td>\n",
       "      <td>1254.268056</td>\n",
       "      <td>117.857092</td>\n",
       "      <td>3.434690</td>\n",
       "      <td>6</td>\n",
       "      <td>2</td>\n",
       "    </tr>\n",
       "    <tr>\n",
       "      <th>4</th>\n",
       "      <td>Argentina</td>\n",
       "      <td>Catamarca</td>\n",
       "      <td>4251.4200</td>\n",
       "      <td>108</td>\n",
       "      <td>1.5594</td>\n",
       "      <td>5.0310</td>\n",
       "      <td>61.3476</td>\n",
       "      <td>1478.1669</td>\n",
       "      <td>2408.0371</td>\n",
       "      <td>12.519576</td>\n",
       "      <td>0</td>\n",
       "      <td>0</td>\n",
       "      <td>1.021082</td>\n",
       "      <td>8.796352</td>\n",
       "      <td>1427.158541</td>\n",
       "      <td>92.539138</td>\n",
       "      <td>3.236150</td>\n",
       "      <td>2</td>\n",
       "      <td>4</td>\n",
       "    </tr>\n",
       "  </tbody>\n",
       "</table>\n",
       "</div>"
      ],
      "text/plain": [
       "     Country                      L1Name  BECTUAREAL1UX  BECNURBPTCHL1UX  \\\n",
       "0  Argentina                Bahia Blanca      5936.8518              198   \n",
       "1  Argentina               Mar del Plata      9243.5409              153   \n",
       "2  Argentina  San Nicolas de los Arroyos      2481.7488               48   \n",
       "3  Argentina                      Tandil      2258.1900               90   \n",
       "4  Argentina                   Catamarca      4251.4200              108   \n",
       "\n",
       "   BECPTCHDENSL1UX  BECAWMNSHPINDXL1UX  BECAWMNNNGHL1UX  BECEFFMESHSIZEL1UX  \\\n",
       "0           1.9180              5.1609          61.0614           1612.1203   \n",
       "1           1.1238              6.8723          60.8413           5883.8861   \n",
       "2           1.1257              4.3717          60.5104            957.0535   \n",
       "3           2.4748              4.4081          61.6375           1149.8336   \n",
       "4           1.5594              5.0310          61.3476           1478.1669   \n",
       "\n",
       "   BECAWAVGPTCHAREAL1UX  BECAWEDGDENSL1UX  BECPRSBRTL1UX  BECPRSSUBWAYL1UX  \\\n",
       "0             2803.2783          9.017143              0                 0   \n",
       "1             8666.1085         13.663430              0                 0   \n",
       "2             1644.4314         14.801846              0                 0   \n",
       "3             1851.7128         19.720400              0                 0   \n",
       "4             2408.0371         12.519576              0                 0   \n",
       "\n",
       "   BECADCRCTYAVGL1UX  BECADINTDENSL1UX  BECADSTTDENSL1UX  BECADSTTLGAVGL1UX  \\\n",
       "0           1.013586          6.048771       1172.638429         109.389079   \n",
       "1           1.011338          7.587916       1457.473841         102.798618   \n",
       "2           1.019215          5.926909       1131.306722         107.018352   \n",
       "3           1.018717          6.067776       1254.268056         117.857092   \n",
       "4           1.021082          8.796352       1427.158541          92.539138   \n",
       "\n",
       "   BECADSTTPNODEAVGL1UX  transporte  urbano  \n",
       "0              3.446932           6       4  \n",
       "1              3.606951           2       1  \n",
       "2              3.269688           6       2  \n",
       "3              3.434690           6       2  \n",
       "4              3.236150           2       4  "
      ]
     },
     "execution_count": 8,
     "metadata": {},
     "output_type": "execute_result"
    }
   ],
   "source": [
    "salurbal_df.head()"
   ]
  },
  {
   "cell_type": "markdown",
   "metadata": {},
   "source": [
    "# Cleaning Data"
   ]
  },
  {
   "cell_type": "code",
   "execution_count": 9,
   "metadata": {},
   "outputs": [],
   "source": [
    "# Crea una columna contando la cantidad de valores faltantes\n",
    "salurbal_df[ 'missings' ] = salurbal_df.isnull().sum( axis = 1 )"
   ]
  },
  {
   "cell_type": "code",
   "execution_count": 10,
   "metadata": {},
   "outputs": [
    {
     "data": {
      "text/plain": [
       "0    368\n",
       "Name: missings, dtype: int64"
      ]
     },
     "execution_count": 10,
     "metadata": {},
     "output_type": "execute_result"
    }
   ],
   "source": [
    "salurbal_df[ 'missings' ].value_counts( dropna = False )"
   ]
  },
  {
   "cell_type": "code",
   "execution_count": 11,
   "metadata": {},
   "outputs": [],
   "source": [
    "del salurbal_df[ 'missings' ]"
   ]
  },
  {
   "cell_type": "code",
   "execution_count": 12,
   "metadata": {},
   "outputs": [],
   "source": [
    "features = salurbal_df.columns[ 2:-2 ].tolist()"
   ]
  },
  {
   "cell_type": "code",
   "execution_count": 13,
   "metadata": {},
   "outputs": [],
   "source": [
    "ul_features = [ 'BECAWMNSHPINDXL1UX', 'BECEFFMESHSIZEL1UX', 'BECAWMNNNGHL1UX', 'BECAWEDGDENSL1UX', 'BECPTCHDENSL1UX', 'BECAWAVGPTCHAREAL1UX' ] # BECNURBPTCHL1UX"
   ]
  },
  {
   "cell_type": "code",
   "execution_count": 14,
   "metadata": {},
   "outputs": [],
   "source": [
    "tr_features = [ 'BECPRSBRTL1UX', 'BECPRSSUBWAYL1UX', 'BECADSTTDENSL1UX', 'BECADSTTLGAVGL1UX', 'BECADINTDENSL1UX', 'BECADCRCTYAVGL1UX', 'BECADSTTPNODEAVGL1UX' ]"
   ]
  },
  {
   "cell_type": "code",
   "execution_count": 15,
   "metadata": {},
   "outputs": [
    {
     "data": {
      "text/html": [
       "<div>\n",
       "<style scoped>\n",
       "    .dataframe tbody tr th:only-of-type {\n",
       "        vertical-align: middle;\n",
       "    }\n",
       "\n",
       "    .dataframe tbody tr th {\n",
       "        vertical-align: top;\n",
       "    }\n",
       "\n",
       "    .dataframe thead th {\n",
       "        text-align: right;\n",
       "    }\n",
       "</style>\n",
       "<table border=\"1\" class=\"dataframe\">\n",
       "  <thead>\n",
       "    <tr style=\"text-align: right;\">\n",
       "      <th></th>\n",
       "      <th>Country</th>\n",
       "      <th>L1Name</th>\n",
       "      <th>BECTUAREAL1UX</th>\n",
       "      <th>BECNURBPTCHL1UX</th>\n",
       "      <th>BECPTCHDENSL1UX</th>\n",
       "      <th>BECAWMNSHPINDXL1UX</th>\n",
       "      <th>BECAWMNNNGHL1UX</th>\n",
       "      <th>BECEFFMESHSIZEL1UX</th>\n",
       "      <th>BECAWAVGPTCHAREAL1UX</th>\n",
       "      <th>BECAWEDGDENSL1UX</th>\n",
       "      <th>BECPRSBRTL1UX</th>\n",
       "      <th>BECPRSSUBWAYL1UX</th>\n",
       "      <th>BECADCRCTYAVGL1UX</th>\n",
       "      <th>BECADINTDENSL1UX</th>\n",
       "      <th>BECADSTTDENSL1UX</th>\n",
       "      <th>BECADSTTLGAVGL1UX</th>\n",
       "      <th>BECADSTTPNODEAVGL1UX</th>\n",
       "      <th>transporte</th>\n",
       "      <th>urbano</th>\n",
       "    </tr>\n",
       "  </thead>\n",
       "  <tbody>\n",
       "    <tr>\n",
       "      <th>0</th>\n",
       "      <td>Argentina</td>\n",
       "      <td>Bahia Blanca</td>\n",
       "      <td>5936.8518</td>\n",
       "      <td>198</td>\n",
       "      <td>1.9180</td>\n",
       "      <td>5.1609</td>\n",
       "      <td>61.0614</td>\n",
       "      <td>1612.1203</td>\n",
       "      <td>2803.2783</td>\n",
       "      <td>9.017143</td>\n",
       "      <td>0</td>\n",
       "      <td>0</td>\n",
       "      <td>1.013586</td>\n",
       "      <td>6.048771</td>\n",
       "      <td>1172.638429</td>\n",
       "      <td>109.389079</td>\n",
       "      <td>3.446932</td>\n",
       "      <td>6</td>\n",
       "      <td>4</td>\n",
       "    </tr>\n",
       "    <tr>\n",
       "      <th>1</th>\n",
       "      <td>Argentina</td>\n",
       "      <td>Mar del Plata</td>\n",
       "      <td>9243.5409</td>\n",
       "      <td>153</td>\n",
       "      <td>1.1238</td>\n",
       "      <td>6.8723</td>\n",
       "      <td>60.8413</td>\n",
       "      <td>5883.8861</td>\n",
       "      <td>8666.1085</td>\n",
       "      <td>13.663430</td>\n",
       "      <td>0</td>\n",
       "      <td>0</td>\n",
       "      <td>1.011338</td>\n",
       "      <td>7.587916</td>\n",
       "      <td>1457.473841</td>\n",
       "      <td>102.798618</td>\n",
       "      <td>3.606951</td>\n",
       "      <td>2</td>\n",
       "      <td>1</td>\n",
       "    </tr>\n",
       "    <tr>\n",
       "      <th>2</th>\n",
       "      <td>Argentina</td>\n",
       "      <td>San Nicolas de los Arroyos</td>\n",
       "      <td>2481.7488</td>\n",
       "      <td>48</td>\n",
       "      <td>1.1257</td>\n",
       "      <td>4.3717</td>\n",
       "      <td>60.5104</td>\n",
       "      <td>957.0535</td>\n",
       "      <td>1644.4314</td>\n",
       "      <td>14.801846</td>\n",
       "      <td>0</td>\n",
       "      <td>0</td>\n",
       "      <td>1.019215</td>\n",
       "      <td>5.926909</td>\n",
       "      <td>1131.306722</td>\n",
       "      <td>107.018352</td>\n",
       "      <td>3.269688</td>\n",
       "      <td>6</td>\n",
       "      <td>2</td>\n",
       "    </tr>\n",
       "    <tr>\n",
       "      <th>3</th>\n",
       "      <td>Argentina</td>\n",
       "      <td>Tandil</td>\n",
       "      <td>2258.1900</td>\n",
       "      <td>90</td>\n",
       "      <td>2.4748</td>\n",
       "      <td>4.4081</td>\n",
       "      <td>61.6375</td>\n",
       "      <td>1149.8336</td>\n",
       "      <td>1851.7128</td>\n",
       "      <td>19.720400</td>\n",
       "      <td>0</td>\n",
       "      <td>0</td>\n",
       "      <td>1.018717</td>\n",
       "      <td>6.067776</td>\n",
       "      <td>1254.268056</td>\n",
       "      <td>117.857092</td>\n",
       "      <td>3.434690</td>\n",
       "      <td>6</td>\n",
       "      <td>2</td>\n",
       "    </tr>\n",
       "    <tr>\n",
       "      <th>4</th>\n",
       "      <td>Argentina</td>\n",
       "      <td>Catamarca</td>\n",
       "      <td>4251.4200</td>\n",
       "      <td>108</td>\n",
       "      <td>1.5594</td>\n",
       "      <td>5.0310</td>\n",
       "      <td>61.3476</td>\n",
       "      <td>1478.1669</td>\n",
       "      <td>2408.0371</td>\n",
       "      <td>12.519576</td>\n",
       "      <td>0</td>\n",
       "      <td>0</td>\n",
       "      <td>1.021082</td>\n",
       "      <td>8.796352</td>\n",
       "      <td>1427.158541</td>\n",
       "      <td>92.539138</td>\n",
       "      <td>3.236150</td>\n",
       "      <td>2</td>\n",
       "      <td>4</td>\n",
       "    </tr>\n",
       "  </tbody>\n",
       "</table>\n",
       "</div>"
      ],
      "text/plain": [
       "     Country                      L1Name  BECTUAREAL1UX  BECNURBPTCHL1UX  \\\n",
       "0  Argentina                Bahia Blanca      5936.8518              198   \n",
       "1  Argentina               Mar del Plata      9243.5409              153   \n",
       "2  Argentina  San Nicolas de los Arroyos      2481.7488               48   \n",
       "3  Argentina                      Tandil      2258.1900               90   \n",
       "4  Argentina                   Catamarca      4251.4200              108   \n",
       "\n",
       "   BECPTCHDENSL1UX  BECAWMNSHPINDXL1UX  BECAWMNNNGHL1UX  BECEFFMESHSIZEL1UX  \\\n",
       "0           1.9180              5.1609          61.0614           1612.1203   \n",
       "1           1.1238              6.8723          60.8413           5883.8861   \n",
       "2           1.1257              4.3717          60.5104            957.0535   \n",
       "3           2.4748              4.4081          61.6375           1149.8336   \n",
       "4           1.5594              5.0310          61.3476           1478.1669   \n",
       "\n",
       "   BECAWAVGPTCHAREAL1UX  BECAWEDGDENSL1UX  BECPRSBRTL1UX  BECPRSSUBWAYL1UX  \\\n",
       "0             2803.2783          9.017143              0                 0   \n",
       "1             8666.1085         13.663430              0                 0   \n",
       "2             1644.4314         14.801846              0                 0   \n",
       "3             1851.7128         19.720400              0                 0   \n",
       "4             2408.0371         12.519576              0                 0   \n",
       "\n",
       "   BECADCRCTYAVGL1UX  BECADINTDENSL1UX  BECADSTTDENSL1UX  BECADSTTLGAVGL1UX  \\\n",
       "0           1.013586          6.048771       1172.638429         109.389079   \n",
       "1           1.011338          7.587916       1457.473841         102.798618   \n",
       "2           1.019215          5.926909       1131.306722         107.018352   \n",
       "3           1.018717          6.067776       1254.268056         117.857092   \n",
       "4           1.021082          8.796352       1427.158541          92.539138   \n",
       "\n",
       "   BECADSTTPNODEAVGL1UX  transporte  urbano  \n",
       "0              3.446932           6       4  \n",
       "1              3.606951           2       1  \n",
       "2              3.269688           6       2  \n",
       "3              3.434690           6       2  \n",
       "4              3.236150           2       4  "
      ]
     },
     "execution_count": 15,
     "metadata": {},
     "output_type": "execute_result"
    }
   ],
   "source": [
    "salurbal_df.head()"
   ]
  },
  {
   "cell_type": "markdown",
   "metadata": {},
   "source": [
    "# Data Exploration"
   ]
  },
  {
   "cell_type": "code",
   "execution_count": null,
   "metadata": {},
   "outputs": [],
   "source": [
    "salurbal_df[ 'TR_PROFILE' ] = np.random.randint( 1, 6, size = salurbal_df.shape[ 0 ] )\n",
    "salurbal_df[ 'UL_PROFILE' ] = np.random.randint( 1, 6, size = salurbal_df.shape[ 0 ] )"
   ]
  },
  {
   "cell_type": "code",
   "execution_count": null,
   "metadata": {},
   "outputs": [],
   "source": [
    "sns.pairplot( salurbal_df, vars = ul_features, hue = 'UL_PROFILE' )"
   ]
  },
  {
   "cell_type": "code",
   "execution_count": null,
   "metadata": {},
   "outputs": [],
   "source": [
    "sns.pairplot( salurbal_df, vars = tr_features, hue = 'TR_PROFILE' )"
   ]
  },
  {
   "cell_type": "markdown",
   "metadata": {},
   "source": [
    "# Geocoding"
   ]
  },
  {
   "cell_type": "code",
   "execution_count": null,
   "metadata": {},
   "outputs": [],
   "source": [
    "GOOGLE_API = os.environ[ 'GOOGLE_API' ]\n",
    "URL = 'https://maps.googleapis.com/maps/api/geocode/json'"
   ]
  },
  {
   "cell_type": "code",
   "execution_count": null,
   "metadata": {},
   "outputs": [],
   "source": [
    "for index, row in salurbal_df.iterrows():\n",
    "    #print( index )\n",
    "    address = row[ 'L1Name' ] + ', ' + row[ 'Country' ]\n",
    "    data = requests.get( URL, params = { 'key' : GOOGLE_API, 'address' : address } ).json()\n",
    "    lat = data[ 'results' ][ 0 ][ 'geometry' ][ 'location' ][ 'lat' ]\n",
    "    lng = data[ 'results' ][ 0 ][ 'geometry' ][ 'location' ][ 'lng' ]\n",
    "    salurbal_df.loc[ index, 'latitude' ] = lat\n",
    "    salurbal_df.loc[ index, 'longitude' ] = lng"
   ]
  },
  {
   "cell_type": "code",
   "execution_count": null,
   "metadata": {},
   "outputs": [],
   "source": [
    "salurbal_df.head()"
   ]
  },
  {
   "cell_type": "code",
   "execution_count": null,
   "metadata": {},
   "outputs": [],
   "source": [
    "salurbal_df[ 'latitude' ].isnull().sum()"
   ]
  },
  {
   "cell_type": "markdown",
   "metadata": {},
   "source": [
    "# Complementary Clustering"
   ]
  },
  {
   "cell_type": "markdown",
   "metadata": {},
   "source": [
    "### K-Means"
   ]
  },
  {
   "cell_type": "markdown",
   "metadata": {},
   "source": [
    "kmeans_pipeline = Pipeline( [\n",
    "    ( 'scaling', StandardScaler() ),\n",
    "    ( 'clustering', KMeans( n_clusters = 5, n_jobs = -1, random_state = 1 ) )\n",
    "] )"
   ]
  },
  {
   "cell_type": "markdown",
   "metadata": {},
   "source": [
    "kmeans_mbe_salurbal = kmeans_pipeline.fit_predict( salurbal_df[ mbe_features ] )\n",
    "\n",
    "for i in range( kmeans_mbe_salurbal.shape[ 0 ] ):\n",
    "    kmeans_mbe_salurbal[ i ] = kmeans_mbe_salurbal[ i ] + 1"
   ]
  },
  {
   "cell_type": "markdown",
   "metadata": {},
   "source": [
    "kmeans_mt_salurbal = kmeans_pipeline.fit_predict( salurbal_df[ mt_features ] )\n",
    "\n",
    "for i in range( kmeans_mt_salurbal.shape[ 0 ] ):\n",
    "    kmeans_mt_salurbal[ i ] = kmeans_mt_salurbal[ i ] + 1"
   ]
  },
  {
   "cell_type": "markdown",
   "metadata": {},
   "source": [
    "salurbal_df[ 'MBE_CLUSTER_KMEANS' ] = kmeans_mbe_salurbal\n",
    "\n",
    "salurbal_df[ 'MT_CLUSTER_KMEANS' ] = kmeans_mt_salurbal"
   ]
  },
  {
   "cell_type": "markdown",
   "metadata": {},
   "source": [
    "salurbal_df[ 'MBE_CLUSTER_KMEANS' ].value_counts( dropna = False )"
   ]
  },
  {
   "cell_type": "markdown",
   "metadata": {},
   "source": [
    "salurbal_df[ 'MT_CLUSTER_KMEANS' ].value_counts( dropna = False )"
   ]
  },
  {
   "cell_type": "markdown",
   "metadata": {},
   "source": [
    "sns.pairplot( salurbal_df, vars = mbe_features, hue = 'MBE_CLUSTER_KMEANS' )"
   ]
  },
  {
   "cell_type": "markdown",
   "metadata": {},
   "source": [
    "sns.pairplot( salurbal_df, vars = mt_features, hue = 'MT_CLUSTER_KMEANS' )"
   ]
  },
  {
   "cell_type": "markdown",
   "metadata": {},
   "source": [
    "### Spectral Clustering"
   ]
  },
  {
   "cell_type": "markdown",
   "metadata": {},
   "source": [
    "spectral_pipeline = Pipeline( [\n",
    "    ( 'scaling', StandardScaler() ),\n",
    "    ( 'clustering', SpectralClustering( n_clusters = 5, n_jobs = -1, random_state = 1 ) )\n",
    "] )"
   ]
  },
  {
   "cell_type": "markdown",
   "metadata": {},
   "source": [
    "spectral_mbe_salurbal = spectral_pipeline.fit_predict( salurbal_df[ mbe_features ] )\n",
    "\n",
    "for i in range( spectral_mbe_salurbal.shape[ 0 ] ):\n",
    "    spectral_mbe_salurbal[ i ] = spectral_mbe_salurbal[ i ] + 1"
   ]
  },
  {
   "cell_type": "markdown",
   "metadata": {},
   "source": [
    "spectral_mt_salurbal = spectral_pipeline.fit_predict( salurbal_df[ mt_features ] )\n",
    "\n",
    "for i in range( spectral_mt_salurbal.shape[ 0 ] ):\n",
    "    spectral_mt_salurbal[ i ] = spectral_mt_salurbal[ i ] + 1"
   ]
  },
  {
   "cell_type": "markdown",
   "metadata": {},
   "source": [
    "salurbal_df[ 'MBE_CLUSTER_SPECTRAL' ] = spectral_mbe_salurbal\n",
    "\n",
    "salurbal_df[ 'MT_CLUSTER_SPECTRAL' ] = spectral_mt_salurbal"
   ]
  },
  {
   "cell_type": "markdown",
   "metadata": {},
   "source": [
    "salurbal_df[ 'MBE_CLUSTER_SPECTRAL' ].value_counts( dropna = False )"
   ]
  },
  {
   "cell_type": "markdown",
   "metadata": {},
   "source": [
    "salurbal_df[ 'MT_CLUSTER_SPECTRAL' ].value_counts( dropna = False )"
   ]
  },
  {
   "cell_type": "markdown",
   "metadata": {},
   "source": [
    "sns.pairplot( salurbal_df, vars = mbe_features, hue = 'MBE_CLUSTER_SPECTRAL' )"
   ]
  },
  {
   "cell_type": "markdown",
   "metadata": {},
   "source": [
    "sns.pairplot( salurbal_df, vars = mt_features, hue = 'MT_CLUSTER_SPECTRAL' )"
   ]
  },
  {
   "cell_type": "markdown",
   "metadata": {},
   "source": [
    "# Dimensionality Reduction"
   ]
  },
  {
   "cell_type": "markdown",
   "metadata": {},
   "source": [
    "### T-SNE"
   ]
  },
  {
   "cell_type": "code",
   "execution_count": null,
   "metadata": {},
   "outputs": [],
   "source": [
    "tsne_pipeline = Pipeline( [\n",
    "    ( 'scaling', StandardScaler() ),\n",
    "    ( 'dimred', TSNE( n_iter = 2000, random_state = 1 ) )\n",
    "] )"
   ]
  },
  {
   "cell_type": "code",
   "execution_count": null,
   "metadata": {},
   "outputs": [],
   "source": [
    "tsne_ul_salurbal = tsne_pipeline.fit_transform( salurbal_df[ ul_features ] )"
   ]
  },
  {
   "cell_type": "code",
   "execution_count": null,
   "metadata": {},
   "outputs": [],
   "source": [
    "tsne_tr_salurbal = tsne_pipeline.fit_transform( salurbal_df[ tr_features ] )"
   ]
  },
  {
   "cell_type": "code",
   "execution_count": null,
   "metadata": {},
   "outputs": [],
   "source": [
    "salurbal_df[ 'TSNE_UL_X' ] = tsne_ul_salurbal[ :, 0 ]\n",
    "salurbal_df[ 'TSNE_UL_Y' ] = tsne_ul_salurbal[ :, 1 ]\n",
    "\n",
    "salurbal_df[ 'TSNE_TR_X' ] = tsne_tr_salurbal[ :, 0 ]\n",
    "salurbal_df[ 'TSNE_TR_Y' ] = tsne_tr_salurbal[ :, 1 ]"
   ]
  },
  {
   "cell_type": "markdown",
   "metadata": {},
   "source": [
    "### PCA"
   ]
  },
  {
   "cell_type": "code",
   "execution_count": null,
   "metadata": {},
   "outputs": [],
   "source": [
    "pca_pipeline = Pipeline( [\n",
    "    ( 'scaling', StandardScaler() ),\n",
    "    ( 'dimred', PCA( n_components = 2, random_state = 1 ) )\n",
    "] )"
   ]
  },
  {
   "cell_type": "code",
   "execution_count": null,
   "metadata": {},
   "outputs": [],
   "source": [
    "pca_ul_salurbal = pca_pipeline.fit_transform( salurbal_df[ ul_features ] )\n",
    "pca_pipeline.named_steps[ 'dimred' ].explained_variance_ratio_"
   ]
  },
  {
   "cell_type": "code",
   "execution_count": null,
   "metadata": {},
   "outputs": [],
   "source": [
    "pca_tr_salurbal = pca_pipeline.fit_transform( salurbal_df[ tr_features ] )\n",
    "pca_pipeline.named_steps[ 'dimred' ].explained_variance_ratio_"
   ]
  },
  {
   "cell_type": "code",
   "execution_count": null,
   "metadata": {},
   "outputs": [],
   "source": [
    "salurbal_df[ 'PCA_UL_X' ] = pca_ul_salurbal[ :, 0 ]\n",
    "salurbal_df[ 'PCA_UL_Y' ] = pca_ul_salurbal[ :, 1 ]\n",
    "\n",
    "salurbal_df[ 'PCA_TR_X' ] = pca_tr_salurbal[ :, 0 ]\n",
    "salurbal_df[ 'PCA_TR_Y' ] = pca_tr_salurbal[ :, 1 ]"
   ]
  },
  {
   "cell_type": "markdown",
   "metadata": {},
   "source": [
    "### UMAP"
   ]
  },
  {
   "cell_type": "code",
   "execution_count": null,
   "metadata": {},
   "outputs": [],
   "source": [
    "umap_pipeline = Pipeline( [\n",
    "    ( 'scaling', StandardScaler() ),\n",
    "    ( 'dimred', umap.UMAP() )\n",
    "] )"
   ]
  },
  {
   "cell_type": "code",
   "execution_count": null,
   "metadata": {},
   "outputs": [],
   "source": [
    "umap_ul_salurbal = umap_pipeline.fit_transform( salurbal_df[ ul_features ] )"
   ]
  },
  {
   "cell_type": "code",
   "execution_count": null,
   "metadata": {},
   "outputs": [],
   "source": [
    "umap_tr_salurbal = umap_pipeline.fit_transform( salurbal_df[ tr_features ] )"
   ]
  },
  {
   "cell_type": "code",
   "execution_count": null,
   "metadata": {},
   "outputs": [],
   "source": [
    "salurbal_df[ 'UMAP_UL_X' ] = umap_ul_salurbal[ :, 0 ]\n",
    "salurbal_df[ 'UMAP_UL_Y' ] = umap_ul_salurbal[ :, 1 ]\n",
    "\n",
    "salurbal_df[ 'UMAP_TR_X' ] = umap_tr_salurbal[ :, 0 ]\n",
    "salurbal_df[ 'UMAP_TR_Y' ] = umap_tr_salurbal[ :, 1 ]"
   ]
  },
  {
   "cell_type": "markdown",
   "metadata": {},
   "source": [
    "# Visualization"
   ]
  },
  {
   "cell_type": "code",
   "execution_count": null,
   "metadata": {},
   "outputs": [],
   "source": [
    "f, ( ax1, ax2, ax3 ) = plt.subplots( 1, 3,  figsize = ( 25, 7 ) )\n",
    "\n",
    "model = 'UL'\n",
    "clustering = ''\n",
    "methods = { 'PCA' : ax1, 'TSNE' : ax2, 'UMAP' : ax3 }\n",
    "for method in methods:\n",
    "    for c in range( 1, 6 ):\n",
    "        methods[ method ].scatter( salurbal_df.loc[ salurbal_df[ model + '_PROFILE' + clustering ] == c ][ method + '_' + model + '_X' ], salurbal_df.loc[ salurbal_df[ model + '_PROFILE' + clustering ] == c ][ method + '_' + model + '_Y' ], label = str( c ), edgecolor = 'black', alpha = 0.5 )\n",
    "    methods[ method ].set_title( method )\n",
    "    methods[ method ].legend()\n",
    "plt.show()"
   ]
  },
  {
   "cell_type": "markdown",
   "metadata": {},
   "source": [
    "f, ( ax1, ax2, ax3 ) = plt.subplots( 1, 3,  figsize = ( 25, 7 ) )\n",
    "\n",
    "model = 'MBE'\n",
    "clustering = '_KMEANS'\n",
    "methods = { 'PCA' : ax1, 'TSNE' : ax2, 'UMAP' : ax3 }\n",
    "for method in methods:\n",
    "    for c in range( 1, 6 ):\n",
    "        methods[ method ].scatter( salurbal_df.loc[ salurbal_df[ model + '_CLUSTER' + clustering ] == c ][ method + '_' + model + '_X' ], salurbal_df.loc[ salurbal_df[ model + '_CLUSTER' + clustering ] == c ][ method + '_' + model + '_Y' ], label = str( c ), edgecolor = 'black', alpha = 0.5 )\n",
    "    methods[ method ].set_title( method )\n",
    "    methods[ method ].legend()\n",
    "plt.show()"
   ]
  },
  {
   "cell_type": "markdown",
   "metadata": {},
   "source": [
    "f, ( ax1, ax2, ax3 ) = plt.subplots( 1, 3,  figsize = ( 25, 7 ) )\n",
    "\n",
    "model = 'MBE'\n",
    "clustering = '_SPECTRAL'\n",
    "methods = { 'PCA' : ax1, 'TSNE' : ax2, 'UMAP' : ax3 }\n",
    "for method in methods:\n",
    "    for c in range( 1, 6 ):\n",
    "        methods[ method ].scatter( salurbal_df.loc[ salurbal_df[ model + '_CLUSTER' + clustering ] == c ][ method + '_' + model + '_X' ], salurbal_df.loc[ salurbal_df[ model + '_CLUSTER' + clustering ] == c ][ method + '_' + model + '_Y' ], label = str( c ), edgecolor = 'black', alpha = 0.5 )\n",
    "    methods[ method ].set_title( method )\n",
    "    methods[ method ].legend()\n",
    "plt.show()"
   ]
  },
  {
   "cell_type": "code",
   "execution_count": null,
   "metadata": {},
   "outputs": [],
   "source": [
    "f, ( ax1, ax2, ax3 ) = plt.subplots( 1, 3,  figsize = ( 25, 7 ) )\n",
    "\n",
    "model = 'TR'\n",
    "clustering = ''\n",
    "methods = { 'PCA' : ax1, 'TSNE' : ax2, 'UMAP' : ax3 }\n",
    "for method in methods:\n",
    "    for c in range( 1, 6 ):\n",
    "        methods[ method ].scatter( salurbal_df.loc[ salurbal_df[ model + '_PROFILE' + clustering ] == c ][ method + '_' + model + '_X' ], salurbal_df.loc[ salurbal_df[ model + '_PROFILE' + clustering ] == c ][ method + '_' + model + '_Y' ], label = str( c ), edgecolor = 'black', alpha = 0.5 )\n",
    "    methods[ method ].set_title( method )\n",
    "    methods[ method ].legend()\n",
    "plt.show()"
   ]
  },
  {
   "cell_type": "markdown",
   "metadata": {},
   "source": [
    "f, ( ax1, ax2, ax3 ) = plt.subplots( 1, 3,  figsize = ( 25, 7 ) )\n",
    "\n",
    "model = 'MT'\n",
    "clustering = '_KMEANS'\n",
    "methods = { 'PCA' : ax1, 'TSNE' : ax2, 'UMAP' : ax3 }\n",
    "for method in methods:\n",
    "    for c in range( 1, 6 ):\n",
    "        methods[ method ].scatter( salurbal_df.loc[ salurbal_df[ model + '_CLUSTER' + clustering ] == c ][ method + '_' + model + '_X' ], salurbal_df.loc[ salurbal_df[ model + '_CLUSTER' + clustering ] == c ][ method + '_' + model + '_Y' ], label = str( c ), edgecolor = 'black', alpha = 0.5 )\n",
    "    methods[ method ].set_title( method )\n",
    "    methods[ method ].legend()\n",
    "plt.show()"
   ]
  },
  {
   "cell_type": "markdown",
   "metadata": {},
   "source": [
    "f, ( ax1, ax2, ax3 ) = plt.subplots( 1, 3,  figsize = ( 25, 7 ) )\n",
    "\n",
    "model = 'MT'\n",
    "clustering = '_SPECTRAL'\n",
    "methods = { 'PCA' : ax1, 'TSNE' : ax2, 'UMAP' : ax3 }\n",
    "for method in methods:\n",
    "    for c in range( 1, 6 ):\n",
    "        methods[ method ].scatter( salurbal_df.loc[ salurbal_df[ model + '_CLUSTER' + clustering ] == c ][ method + '_' + model + '_X' ], salurbal_df.loc[ salurbal_df[ model + '_CLUSTER' + clustering ] == c ][ method + '_' + model + '_Y' ], label = str( c ), edgecolor = 'black', alpha = 0.5 )\n",
    "    methods[ method ].set_title( method )\n",
    "    methods[ method ].legend()\n",
    "plt.show()"
   ]
  },
  {
   "cell_type": "code",
   "execution_count": null,
   "metadata": {},
   "outputs": [],
   "source": [
    "salurbal_df.head()"
   ]
  },
  {
   "cell_type": "code",
   "execution_count": null,
   "metadata": {},
   "outputs": [],
   "source": [
    "salurbal_df.to_csv( '../data/modelos_l1.csv', sep = ';', decimal = ',', index = False )"
   ]
  },
  {
   "cell_type": "code",
   "execution_count": null,
   "metadata": {},
   "outputs": [],
   "source": []
  },
  {
   "cell_type": "markdown",
   "metadata": {},
   "source": [
    "# Explanations"
   ]
  },
  {
   "cell_type": "code",
   "execution_count": null,
   "metadata": {},
   "outputs": [],
   "source": [
    "import lime\n",
    "import lime.lime_tabular"
   ]
  },
  {
   "cell_type": "code",
   "execution_count": null,
   "metadata": {},
   "outputs": [],
   "source": []
  },
  {
   "cell_type": "code",
   "execution_count": null,
   "metadata": {},
   "outputs": [],
   "source": []
  },
  {
   "cell_type": "code",
   "execution_count": null,
   "metadata": {},
   "outputs": [],
   "source": []
  },
  {
   "cell_type": "code",
   "execution_count": null,
   "metadata": {},
   "outputs": [],
   "source": [
    "import sklearn\n",
    "import sklearn.datasets\n",
    "import sklearn.ensemble\n",
    "import numpy as np\n",
    "import lime\n",
    "import lime.lime_tabular\n",
    "from __future__ import print_function\n",
    "np.random.seed(1)"
   ]
  },
  {
   "cell_type": "code",
   "execution_count": null,
   "metadata": {},
   "outputs": [],
   "source": [
    "iris = sklearn.datasets.load_iris()"
   ]
  },
  {
   "cell_type": "code",
   "execution_count": null,
   "metadata": {},
   "outputs": [],
   "source": [
    "train, test, labels_train, labels_test = sklearn.model_selection.train_test_split(iris.data, iris.target, train_size=0.80)"
   ]
  },
  {
   "cell_type": "code",
   "execution_count": null,
   "metadata": {},
   "outputs": [],
   "source": [
    "rf = sklearn.ensemble.RandomForestClassifier(n_estimators=500)\n",
    "rf.fit(train, labels_train)"
   ]
  },
  {
   "cell_type": "code",
   "execution_count": null,
   "metadata": {},
   "outputs": [],
   "source": [
    "sklearn.metrics.accuracy_score(labels_test, rf.predict(test))"
   ]
  },
  {
   "cell_type": "code",
   "execution_count": null,
   "metadata": {},
   "outputs": [],
   "source": [
    "iris.target_names"
   ]
  },
  {
   "cell_type": "code",
   "execution_count": null,
   "metadata": {},
   "outputs": [],
   "source": [
    "explainer = lime.lime_tabular.LimeTabularExplainer(train, feature_names=iris.feature_names, class_names=iris.target_names, discretize_continuous=True)"
   ]
  },
  {
   "cell_type": "code",
   "execution_count": null,
   "metadata": {},
   "outputs": [],
   "source": [
    "i = np.random.randint(0, test.shape[0])\n",
    "exp = explainer.explain_instance(test[i], rf.predict_proba, num_features=2, top_labels=1)"
   ]
  },
  {
   "cell_type": "code",
   "execution_count": null,
   "metadata": {},
   "outputs": [],
   "source": [
    "exp.show_in_notebook(show_table=True, show_all=False)"
   ]
  },
  {
   "cell_type": "code",
   "execution_count": null,
   "metadata": {},
   "outputs": [],
   "source": [
    "test.shape"
   ]
  },
  {
   "cell_type": "code",
   "execution_count": null,
   "metadata": {},
   "outputs": [],
   "source": []
  },
  {
   "cell_type": "code",
   "execution_count": null,
   "metadata": {},
   "outputs": [],
   "source": []
  },
  {
   "cell_type": "code",
   "execution_count": null,
   "metadata": {},
   "outputs": [],
   "source": [
    "#salurbal_df[ [ 'MT_PROB1', 'MT_PROB2', 'MT_PROB3', 'MT_PROB4', 'MT_PROB5' ] ].sum( axis = 1 )"
   ]
  },
  {
   "cell_type": "code",
   "execution_count": null,
   "metadata": {},
   "outputs": [],
   "source": [
    "salurbal_df[ mt_features ].dtypes"
   ]
  },
  {
   "cell_type": "code",
   "execution_count": null,
   "metadata": {},
   "outputs": [],
   "source": [
    "salurbal_mx = salurbal_df[ mt_features ].values\n",
    "salurbal_mx.shape"
   ]
  },
  {
   "cell_type": "code",
   "execution_count": null,
   "metadata": {},
   "outputs": [],
   "source": [
    "salurbal_mx_probs = lambda x: salurbal_df[ [ 'MT_PROB1', 'MT_PROB2', 'MT_PROB3', 'MT_PROB4', 'MT_PROB5' ] ].values\n",
    "salurbal_mx_probs"
   ]
  },
  {
   "cell_type": "code",
   "execution_count": null,
   "metadata": {},
   "outputs": [],
   "source": [
    "salurbal_mx_probs( 1 )"
   ]
  },
  {
   "cell_type": "code",
   "execution_count": null,
   "metadata": {},
   "outputs": [],
   "source": [
    "explainer = lime.lime_tabular.LimeTabularExplainer( salurbal_mx, feature_names = mt_features, class_names = [ '1' , '2', '3', '4', '5' ] )"
   ]
  },
  {
   "cell_type": "code",
   "execution_count": null,
   "metadata": {},
   "outputs": [],
   "source": [
    "i = np.random.randint( 0, salurbal_mx.shape[ 0 ] )\n",
    "i"
   ]
  },
  {
   "cell_type": "code",
   "execution_count": null,
   "metadata": {},
   "outputs": [],
   "source": [
    "exp = explainer.explain_instance( salurbal_mx[ i ], salurbal_mx_probs, num_features = 7 )"
   ]
  },
  {
   "cell_type": "code",
   "execution_count": null,
   "metadata": {},
   "outputs": [],
   "source": []
  }
 ],
 "metadata": {
  "kernelspec": {
   "display_name": "Python 3",
   "language": "python",
   "name": "python3"
  },
  "language_info": {
   "codemirror_mode": {
    "name": "ipython",
    "version": 3
   },
   "file_extension": ".py",
   "mimetype": "text/x-python",
   "name": "python",
   "nbconvert_exporter": "python",
   "pygments_lexer": "ipython3",
   "version": "3.6.5"
  }
 },
 "nbformat": 4,
 "nbformat_minor": 2
}
