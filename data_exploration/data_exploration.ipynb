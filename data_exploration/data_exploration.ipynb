{
 "cells": [
  {
   "cell_type": "code",
   "execution_count": null,
   "metadata": {},
   "outputs": [],
   "source": [
    "import numpy as np\n",
    "import pandas as pd\n",
    "import pandas_profiling\n",
    "\n",
    "import matplotlib.pyplot as plt\n",
    "%matplotlib inline\n",
    "import seaborn as sns;\n",
    "\n",
    "from sklearn.preprocessing import StandardScaler\n",
    "\n",
    "from sklearn.cluster import KMeans, SpectralClustering\n",
    "\n",
    "from sklearn.manifold import TSNE\n",
    "from sklearn.decomposition import PCA\n",
    "\n",
    "from sklearn.pipeline import Pipeline\n",
    "\n",
    "import umap"
   ]
  },
  {
   "cell_type": "code",
   "execution_count": null,
   "metadata": {},
   "outputs": [],
   "source": [
    "pd.options.display.max_columns = 200"
   ]
  },
  {
   "cell_type": "markdown",
   "metadata": {},
   "source": [
    "# Data Loading - Old Data"
   ]
  },
  {
   "cell_type": "code",
   "execution_count": null,
   "metadata": {},
   "outputs": [],
   "source": [
    "salurbal_old_df = pd.read_csv( '../data/datos.csv' )[ [ 'Country', 'L1Name', 'L2Namev2' ] ]"
   ]
  },
  {
   "cell_type": "code",
   "execution_count": null,
   "metadata": {},
   "outputs": [],
   "source": [
    "salurbal_old_df.shape"
   ]
  },
  {
   "cell_type": "code",
   "execution_count": null,
   "metadata": {},
   "outputs": [],
   "source": [
    "#salurbal_old_df.head()"
   ]
  },
  {
   "cell_type": "markdown",
   "metadata": {},
   "source": [
    "# Data Loading"
   ]
  },
  {
   "cell_type": "code",
   "execution_count": null,
   "metadata": {},
   "outputs": [],
   "source": [
    "salurbal_df = pd.read_excel( '../data/modelos L2.xlsx' )"
   ]
  },
  {
   "cell_type": "code",
   "execution_count": null,
   "metadata": {},
   "outputs": [],
   "source": [
    "salurbal_df.shape"
   ]
  },
  {
   "cell_type": "code",
   "execution_count": null,
   "metadata": {},
   "outputs": [],
   "source": [
    "#salurbal_df.head()"
   ]
  },
  {
   "cell_type": "markdown",
   "metadata": {},
   "source": [
    "# Merging for get L1Names"
   ]
  },
  {
   "cell_type": "code",
   "execution_count": null,
   "metadata": {},
   "outputs": [],
   "source": [
    "salurbal_df[ 'L1Name' ] = salurbal_old_df[ 'L1Name' ]"
   ]
  },
  {
   "cell_type": "code",
   "execution_count": null,
   "metadata": {},
   "outputs": [],
   "source": [
    "salurbal_df.shape"
   ]
  },
  {
   "cell_type": "code",
   "execution_count": null,
   "metadata": {},
   "outputs": [],
   "source": [
    "#salurbal_df.head()"
   ]
  },
  {
   "cell_type": "markdown",
   "metadata": {},
   "source": [
    "# Cleaning Data"
   ]
  },
  {
   "cell_type": "code",
   "execution_count": null,
   "metadata": {},
   "outputs": [],
   "source": [
    "# Eliminación de columnas sin utilidad\n",
    "del salurbal_df[ 'salid2' ]\n",
    "del salurbal_df[ 'bicycle lane' ]"
   ]
  },
  {
   "cell_type": "code",
   "execution_count": null,
   "metadata": {},
   "outputs": [],
   "source": [
    "# Se elimina el modelo completo que ya no se utilizará\n",
    "del salurbal_df[ 'clase-completo' ]\n",
    "del salurbal_df[ 'prob1-completo' ]\n",
    "del salurbal_df[ 'prob2-completo' ]\n",
    "del salurbal_df[ 'prob3-completo' ]"
   ]
  },
  {
   "cell_type": "code",
   "execution_count": null,
   "metadata": {},
   "outputs": [],
   "source": [
    "salurbal_df.rename( columns = { 'L2Namev2': 'L2NAME', 'Country': 'COUNTRY', 'L1Name': 'L1NAME',\n",
    "                               'clase-BE': 'MBE_CLUSTER', 'prob1-BE': 'MBE_PROB1', 'prob2-BE': 'MBE_PROB2', 'prob3-BE': 'MBE_PROB3', 'prob4-BE': 'MBE_PROB4', 'prob5-BE': 'MBE_PROB5', \n",
    "                               'clase_Transport': 'MT_CLUSTER', 'prob1-Transport': 'MT_PROB1', 'prob2-Transport': 'MT_PROB2', 'prob3-Transport': 'MT_PROB3', 'prob4-Transport': 'MT_PROB4', 'prob5-Transport': 'MT_PROB5' \n",
    "                              }, inplace = True )"
   ]
  },
  {
   "cell_type": "code",
   "execution_count": null,
   "metadata": {},
   "outputs": [],
   "source": [
    "salurbal_df.shape"
   ]
  },
  {
   "cell_type": "code",
   "execution_count": null,
   "metadata": {},
   "outputs": [],
   "source": [
    "#salurbal_df.dtypes"
   ]
  },
  {
   "cell_type": "code",
   "execution_count": null,
   "metadata": {},
   "outputs": [],
   "source": [
    "salurbal_df[ 'MT_CLUSTER' ].value_counts( dropna = False )"
   ]
  },
  {
   "cell_type": "code",
   "execution_count": null,
   "metadata": {},
   "outputs": [],
   "source": [
    "salurbal_df[ 'MT_PROB' ] = salurbal_df.apply( lambda x: x[ 'MT_PROB' + str( x[ 'MT_CLUSTER' ] ) ], axis = 1 )"
   ]
  },
  {
   "cell_type": "code",
   "execution_count": null,
   "metadata": {},
   "outputs": [],
   "source": [
    "salurbal_df.loc[ salurbal_df[ 'MT_PROB' ] >= .9, 'MT_CLUSTER' ].value_counts( dropna = False )"
   ]
  },
  {
   "cell_type": "code",
   "execution_count": null,
   "metadata": {},
   "outputs": [],
   "source": [
    "# L2s with membership probability major or equal than 0.9\n",
    "salurbal_df.loc[ salurbal_df[ 'MT_PROB' ] >= .9, 'MT_CLUSTER' ].value_counts( dropna = False ).sum() / salurbal_df[ 'MT_CLUSTER' ].value_counts( dropna = False ).sum()"
   ]
  },
  {
   "cell_type": "code",
   "execution_count": null,
   "metadata": {},
   "outputs": [],
   "source": [
    "salurbal_df[ 'MBE_CLUSTER' ].value_counts( dropna = False )"
   ]
  },
  {
   "cell_type": "code",
   "execution_count": null,
   "metadata": {},
   "outputs": [],
   "source": [
    "salurbal_df[ 'MBE_PROB' ] = salurbal_df.apply( lambda x: x[ 'MBE_PROB' + str( x[ 'MBE_CLUSTER' ] ) ], axis = 1 )"
   ]
  },
  {
   "cell_type": "code",
   "execution_count": null,
   "metadata": {},
   "outputs": [],
   "source": [
    "salurbal_df.loc[ salurbal_df[ 'MBE_PROB' ] >= .9, 'MBE_CLUSTER' ].value_counts( dropna = False )"
   ]
  },
  {
   "cell_type": "code",
   "execution_count": null,
   "metadata": {},
   "outputs": [],
   "source": [
    "# L2s with membership probability major or equal than 0.9\n",
    "salurbal_df.loc[ salurbal_df[ 'MBE_PROB' ] >= .9, 'MBE_CLUSTER' ].value_counts( dropna = False ).sum() / salurbal_df[ 'MBE_CLUSTER' ].value_counts( dropna = False ).sum()"
   ]
  },
  {
   "cell_type": "code",
   "execution_count": null,
   "metadata": {},
   "outputs": [],
   "source": [
    "# Crea una columna contando la cantidad de valores faltantes\n",
    "salurbal_df[ 'missings' ] = salurbal_df.isnull().sum( axis = 1 )"
   ]
  },
  {
   "cell_type": "code",
   "execution_count": null,
   "metadata": {},
   "outputs": [],
   "source": [
    "# Removing of records with more than 2 missing values  => 3 records removed\n",
    "salurbal_df = salurbal_df.loc[ salurbal_df[ 'missings' ] <= 2 ]"
   ]
  },
  {
   "cell_type": "code",
   "execution_count": null,
   "metadata": {},
   "outputs": [],
   "source": [
    "salurbal_df[ 'missings' ].value_counts( dropna = False )"
   ]
  },
  {
   "cell_type": "code",
   "execution_count": null,
   "metadata": {},
   "outputs": [],
   "source": [
    "# Muestra las columnas con valores faltantes\n",
    "salurbal_df.isnull().sum( axis = 0 ).sort_values( ascending = False ).head( 2 )"
   ]
  },
  {
   "cell_type": "code",
   "execution_count": null,
   "metadata": {},
   "outputs": [],
   "source": [
    "# Imputation with median\n",
    "salurbal_df.loc[ salurbal_df[ 'BECAWMNNNGHL2' ].isnull(), 'BECAWMNNNGHL2' ] = salurbal_df[ 'BECAWMNNNGHL2' ].median()"
   ]
  },
  {
   "cell_type": "code",
   "execution_count": null,
   "metadata": {},
   "outputs": [],
   "source": [
    "del salurbal_df[ 'missings' ]"
   ]
  },
  {
   "cell_type": "code",
   "execution_count": null,
   "metadata": {},
   "outputs": [],
   "source": [
    "features = [ 'BECTUAREAL2', 'BECPCTURBANL2', 'BECNURBPTCHL2', 'BECPTCHDENSL2', 'BECAVGPTCHAREAL2', 'BECCVPTCHAREAL2', 'BECAWMNSHPINDXL2', 'BECAWMNNNGHL2', 'BECEDGDENSL2', 'BECEFFMESHSIZEL2', 'BECAWAVGPTCHAREAL2', 'BECAWEDGDENSL2', 'BECTPOPL2', 'BECPOPDENSL2', 'BECPOPCONCL2', 'BECTPOPADJL2', 'BECPOPDENSADJL2', 'BECPRSBRTL2', 'BECPRSSUBWAYL2', 'BECBYLANELNGTHL2', 'BECADAREAL2', 'BECADCRCTYAVGL2', 'BECADINTDENS3L2', 'BECADINTDENS4L2', 'BECADINTDENSL2', 'BECADLRDENSL2', 'BECADSTTDENSL2', 'BECADSTTPNODEAVGL2', 'BECADSTTPNODESDL2', 'BECADSTTLGAVGL2', 'BECURBTRVDELAYINDEXL2' ]"
   ]
  },
  {
   "cell_type": "code",
   "execution_count": null,
   "metadata": {},
   "outputs": [],
   "source": [
    "mbe_features = [ 'BECAWMNSHPINDXL2', 'BECEFFMESHSIZEL2', 'BECAWMNNNGHL2', 'BECAWEDGDENSL2', 'BECPTCHDENSL2', 'BECNURBPTCHL2', 'BECAWAVGPTCHAREAL2' ]"
   ]
  },
  {
   "cell_type": "code",
   "execution_count": null,
   "metadata": {},
   "outputs": [],
   "source": [
    "mt_features = [ 'BECPRSBRTL2', 'BECPRSSUBWAYL2', 'BECADSTTDENSL2', 'BECADSTTLGAVGL2', 'BECADINTDENSL2', 'BECADCRCTYAVGL2', 'BECADSTTPNODEAVGL2' ]"
   ]
  },
  {
   "cell_type": "code",
   "execution_count": null,
   "metadata": {},
   "outputs": [],
   "source": [
    "salurbal_df.head()"
   ]
  },
  {
   "cell_type": "markdown",
   "metadata": {},
   "source": [
    "# Data Exploration"
   ]
  },
  {
   "cell_type": "code",
   "execution_count": null,
   "metadata": {},
   "outputs": [],
   "source": [
    "sns.pairplot( salurbal_df, vars = mbe_features, hue = 'MBE_CLUSTER' )"
   ]
  },
  {
   "cell_type": "code",
   "execution_count": null,
   "metadata": {},
   "outputs": [],
   "source": [
    "sns.pairplot( salurbal_df, vars = mt_features, hue = 'MT_CLUSTER' )"
   ]
  },
  {
   "cell_type": "markdown",
   "metadata": {},
   "source": [
    "# Complementary Clustering"
   ]
  },
  {
   "cell_type": "markdown",
   "metadata": {},
   "source": [
    "### K-Means"
   ]
  },
  {
   "cell_type": "code",
   "execution_count": null,
   "metadata": {},
   "outputs": [],
   "source": [
    "kmeans_pipeline = Pipeline( [\n",
    "    ( 'scaling', StandardScaler() ),\n",
    "    ( 'clustering', KMeans( n_clusters = 5, n_jobs = -1, random_state = 1 ) )\n",
    "] )"
   ]
  },
  {
   "cell_type": "code",
   "execution_count": null,
   "metadata": {},
   "outputs": [],
   "source": [
    "kmeans_mbe_salurbal = kmeans_pipeline.fit_predict( salurbal_df[ mbe_features ] )\n",
    "\n",
    "for i in range( kmeans_mbe_salurbal.shape[ 0 ] ):\n",
    "    kmeans_mbe_salurbal[ i ] = kmeans_mbe_salurbal[ i ] + 1"
   ]
  },
  {
   "cell_type": "code",
   "execution_count": null,
   "metadata": {},
   "outputs": [],
   "source": [
    "kmeans_mt_salurbal = kmeans_pipeline.fit_predict( salurbal_df[ mt_features ] )\n",
    "\n",
    "for i in range( kmeans_mt_salurbal.shape[ 0 ] ):\n",
    "    kmeans_mt_salurbal[ i ] = kmeans_mt_salurbal[ i ] + 1"
   ]
  },
  {
   "cell_type": "code",
   "execution_count": null,
   "metadata": {},
   "outputs": [],
   "source": [
    "salurbal_df[ 'MBE_CLUSTER_KMEANS' ] = kmeans_mbe_salurbal\n",
    "\n",
    "salurbal_df[ 'MT_CLUSTER_KMEANS' ] = kmeans_mt_salurbal"
   ]
  },
  {
   "cell_type": "code",
   "execution_count": null,
   "metadata": {},
   "outputs": [],
   "source": [
    "salurbal_df[ 'MBE_CLUSTER_KMEANS' ].value_counts( dropna = False )"
   ]
  },
  {
   "cell_type": "code",
   "execution_count": null,
   "metadata": {},
   "outputs": [],
   "source": [
    "salurbal_df[ 'MT_CLUSTER_KMEANS' ].value_counts( dropna = False )"
   ]
  },
  {
   "cell_type": "code",
   "execution_count": null,
   "metadata": {},
   "outputs": [],
   "source": [
    "sns.pairplot( salurbal_df, vars = mbe_features, hue = 'MBE_CLUSTER_KMEANS' )"
   ]
  },
  {
   "cell_type": "code",
   "execution_count": null,
   "metadata": {},
   "outputs": [],
   "source": [
    "sns.pairplot( salurbal_df, vars = mt_features, hue = 'MT_CLUSTER_KMEANS' )"
   ]
  },
  {
   "cell_type": "markdown",
   "metadata": {},
   "source": [
    "### Spectral Clustering"
   ]
  },
  {
   "cell_type": "code",
   "execution_count": null,
   "metadata": {},
   "outputs": [],
   "source": [
    "spectral_pipeline = Pipeline( [\n",
    "    ( 'scaling', StandardScaler() ),\n",
    "    ( 'clustering', SpectralClustering( n_clusters = 5, n_jobs = -1, random_state = 1 ) )\n",
    "] )"
   ]
  },
  {
   "cell_type": "code",
   "execution_count": null,
   "metadata": {},
   "outputs": [],
   "source": [
    "spectral_mbe_salurbal = spectral_pipeline.fit_predict( salurbal_df[ mbe_features ] )\n",
    "\n",
    "for i in range( spectral_mbe_salurbal.shape[ 0 ] ):\n",
    "    spectral_mbe_salurbal[ i ] = spectral_mbe_salurbal[ i ] + 1"
   ]
  },
  {
   "cell_type": "code",
   "execution_count": null,
   "metadata": {},
   "outputs": [],
   "source": [
    "spectral_mt_salurbal = spectral_pipeline.fit_predict( salurbal_df[ mt_features ] )\n",
    "\n",
    "for i in range( spectral_mt_salurbal.shape[ 0 ] ):\n",
    "    spectral_mt_salurbal[ i ] = spectral_mt_salurbal[ i ] + 1"
   ]
  },
  {
   "cell_type": "code",
   "execution_count": null,
   "metadata": {},
   "outputs": [],
   "source": [
    "salurbal_df[ 'MBE_CLUSTER_SPECTRAL' ] = spectral_mbe_salurbal\n",
    "\n",
    "salurbal_df[ 'MT_CLUSTER_SPECTRAL' ] = spectral_mt_salurbal"
   ]
  },
  {
   "cell_type": "code",
   "execution_count": null,
   "metadata": {},
   "outputs": [],
   "source": [
    "salurbal_df[ 'MBE_CLUSTER_SPECTRAL' ].value_counts( dropna = False )"
   ]
  },
  {
   "cell_type": "code",
   "execution_count": null,
   "metadata": {},
   "outputs": [],
   "source": [
    "salurbal_df[ 'MT_CLUSTER_SPECTRAL' ].value_counts( dropna = False )"
   ]
  },
  {
   "cell_type": "code",
   "execution_count": null,
   "metadata": {},
   "outputs": [],
   "source": [
    "sns.pairplot( salurbal_df, vars = mbe_features, hue = 'MBE_CLUSTER_SPECTRAL' )"
   ]
  },
  {
   "cell_type": "code",
   "execution_count": null,
   "metadata": {},
   "outputs": [],
   "source": [
    "sns.pairplot( salurbal_df, vars = mt_features, hue = 'MT_CLUSTER_SPECTRAL' )"
   ]
  },
  {
   "cell_type": "markdown",
   "metadata": {},
   "source": [
    "# Dimensionality Reduction"
   ]
  },
  {
   "cell_type": "markdown",
   "metadata": {},
   "source": [
    "### T-SNE"
   ]
  },
  {
   "cell_type": "code",
   "execution_count": null,
   "metadata": {},
   "outputs": [],
   "source": [
    "tsne_pipeline = Pipeline( [\n",
    "    ( 'scaling', StandardScaler() ),\n",
    "    ( 'dimred', TSNE( random_state = 1 ) )\n",
    "] )"
   ]
  },
  {
   "cell_type": "code",
   "execution_count": null,
   "metadata": {},
   "outputs": [],
   "source": [
    "tsne_mbe_salurbal = tsne_pipeline.fit_transform( salurbal_df[ mbe_features ] )"
   ]
  },
  {
   "cell_type": "code",
   "execution_count": null,
   "metadata": {},
   "outputs": [],
   "source": [
    "tsne_mt_salurbal = tsne_pipeline.fit_transform( salurbal_df[ mt_features ] )"
   ]
  },
  {
   "cell_type": "code",
   "execution_count": null,
   "metadata": {},
   "outputs": [],
   "source": [
    "salurbal_df[ 'TSNE_MBE_X' ] = tsne_mbe_salurbal[ :, 0 ]\n",
    "salurbal_df[ 'TSNE_MBE_Y' ] = tsne_mbe_salurbal[ :, 1 ]\n",
    "\n",
    "salurbal_df[ 'TSNE_MT_X' ] = tsne_mt_salurbal[ :, 0 ]\n",
    "salurbal_df[ 'TSNE_MT_Y' ] = tsne_mt_salurbal[ :, 1 ]"
   ]
  },
  {
   "cell_type": "markdown",
   "metadata": {},
   "source": [
    "### PCA"
   ]
  },
  {
   "cell_type": "code",
   "execution_count": null,
   "metadata": {},
   "outputs": [],
   "source": [
    "pca_pipeline = Pipeline( [\n",
    "    ( 'scaling', StandardScaler() ),\n",
    "    ( 'dimred', PCA( n_components = 2, random_state = 1 ) )\n",
    "] )"
   ]
  },
  {
   "cell_type": "code",
   "execution_count": null,
   "metadata": {},
   "outputs": [],
   "source": [
    "pca_mbe_salurbal = pca_pipeline.fit_transform( salurbal_df[ mbe_features ] )\n",
    "pca_pipeline.named_steps[ 'dimred' ].explained_variance_ratio_"
   ]
  },
  {
   "cell_type": "code",
   "execution_count": null,
   "metadata": {},
   "outputs": [],
   "source": [
    "pca_mt_salurbal = pca_pipeline.fit_transform( salurbal_df[ mt_features ] )\n",
    "pca_pipeline.named_steps[ 'dimred' ].explained_variance_ratio_"
   ]
  },
  {
   "cell_type": "code",
   "execution_count": null,
   "metadata": {},
   "outputs": [],
   "source": [
    "salurbal_df[ 'PCA_MBE_X' ] = pca_mbe_salurbal[ :, 0 ]\n",
    "salurbal_df[ 'PCA_MBE_Y' ] = pca_mbe_salurbal[ :, 1 ]\n",
    "\n",
    "salurbal_df[ 'PCA_MT_X' ] = pca_mt_salurbal[ :, 0 ]\n",
    "salurbal_df[ 'PCA_MT_Y' ] = pca_mt_salurbal[ :, 1 ]"
   ]
  },
  {
   "cell_type": "markdown",
   "metadata": {},
   "source": [
    "### UMAP"
   ]
  },
  {
   "cell_type": "code",
   "execution_count": null,
   "metadata": {},
   "outputs": [],
   "source": [
    "umap_pipeline = Pipeline( [\n",
    "    ( 'scaling', StandardScaler() ),\n",
    "    ( 'dimred', umap.UMAP() )\n",
    "] )"
   ]
  },
  {
   "cell_type": "code",
   "execution_count": null,
   "metadata": {},
   "outputs": [],
   "source": [
    "umap_mbe_salurbal = umap_pipeline.fit_transform( salurbal_df[ mbe_features ] )"
   ]
  },
  {
   "cell_type": "code",
   "execution_count": null,
   "metadata": {},
   "outputs": [],
   "source": [
    "umap_mt_salurbal = umap_pipeline.fit_transform( salurbal_df[ mt_features ] )"
   ]
  },
  {
   "cell_type": "code",
   "execution_count": null,
   "metadata": {},
   "outputs": [],
   "source": [
    "salurbal_df[ 'UMAP_MBE_X' ] = umap_mbe_salurbal[ :, 0 ]\n",
    "salurbal_df[ 'UMAP_MBE_Y' ] = umap_mbe_salurbal[ :, 1 ]\n",
    "\n",
    "salurbal_df[ 'UMAP_MT_X' ] = umap_mt_salurbal[ :, 0 ]\n",
    "salurbal_df[ 'UMAP_MT_Y' ] = umap_mt_salurbal[ :, 1 ]"
   ]
  },
  {
   "cell_type": "markdown",
   "metadata": {},
   "source": [
    "# Visualization"
   ]
  },
  {
   "cell_type": "code",
   "execution_count": null,
   "metadata": {},
   "outputs": [],
   "source": [
    "f, ( ax1, ax2, ax3 ) = plt.subplots( 1, 3,  figsize = ( 25, 7 ) )\n",
    "\n",
    "model = 'MBE'\n",
    "clustering = ''\n",
    "methods = { 'PCA' : ax1, 'TSNE' : ax2, 'UMAP' : ax3 }\n",
    "for method in methods:\n",
    "    for c in range( 1, 6 ):\n",
    "        methods[ method ].scatter( salurbal_df.loc[ salurbal_df[ model + '_CLUSTER' + clustering ] == c ][ method + '_' + model + '_X' ], salurbal_df.loc[ salurbal_df[ model + '_CLUSTER' + clustering ] == c ][ method + '_' + model + '_Y' ], label = str( c ), edgecolor = 'black', alpha = 0.5 )\n",
    "    methods[ method ].set_title( method )\n",
    "    methods[ method ].legend()\n",
    "plt.show()"
   ]
  },
  {
   "cell_type": "code",
   "execution_count": null,
   "metadata": {},
   "outputs": [],
   "source": [
    "f, ( ax1, ax2, ax3 ) = plt.subplots( 1, 3,  figsize = ( 25, 7 ) )\n",
    "\n",
    "model = 'MBE'\n",
    "clustering = '_KMEANS'\n",
    "methods = { 'PCA' : ax1, 'TSNE' : ax2, 'UMAP' : ax3 }\n",
    "for method in methods:\n",
    "    for c in range( 1, 6 ):\n",
    "        methods[ method ].scatter( salurbal_df.loc[ salurbal_df[ model + '_CLUSTER' + clustering ] == c ][ method + '_' + model + '_X' ], salurbal_df.loc[ salurbal_df[ model + '_CLUSTER' + clustering ] == c ][ method + '_' + model + '_Y' ], label = str( c ), edgecolor = 'black', alpha = 0.5 )\n",
    "    methods[ method ].set_title( method )\n",
    "    methods[ method ].legend()\n",
    "plt.show()"
   ]
  },
  {
   "cell_type": "code",
   "execution_count": null,
   "metadata": {},
   "outputs": [],
   "source": [
    "f, ( ax1, ax2, ax3 ) = plt.subplots( 1, 3,  figsize = ( 25, 7 ) )\n",
    "\n",
    "model = 'MBE'\n",
    "clustering = '_SPECTRAL'\n",
    "methods = { 'PCA' : ax1, 'TSNE' : ax2, 'UMAP' : ax3 }\n",
    "for method in methods:\n",
    "    for c in range( 1, 6 ):\n",
    "        methods[ method ].scatter( salurbal_df.loc[ salurbal_df[ model + '_CLUSTER' + clustering ] == c ][ method + '_' + model + '_X' ], salurbal_df.loc[ salurbal_df[ model + '_CLUSTER' + clustering ] == c ][ method + '_' + model + '_Y' ], label = str( c ), edgecolor = 'black', alpha = 0.5 )\n",
    "    methods[ method ].set_title( method )\n",
    "    methods[ method ].legend()\n",
    "plt.show()"
   ]
  },
  {
   "cell_type": "code",
   "execution_count": null,
   "metadata": {},
   "outputs": [],
   "source": [
    "f, ( ax1, ax2, ax3 ) = plt.subplots( 1, 3,  figsize = ( 25, 7 ) )\n",
    "\n",
    "model = 'MT'\n",
    "clustering = ''\n",
    "methods = { 'PCA' : ax1, 'TSNE' : ax2, 'UMAP' : ax3 }\n",
    "for method in methods:\n",
    "    for c in range( 1, 6 ):\n",
    "        methods[ method ].scatter( salurbal_df.loc[ salurbal_df[ model + '_CLUSTER' + clustering ] == c ][ method + '_' + model + '_X' ], salurbal_df.loc[ salurbal_df[ model + '_CLUSTER' + clustering ] == c ][ method + '_' + model + '_Y' ], label = str( c ), edgecolor = 'black', alpha = 0.5 )\n",
    "    methods[ method ].set_title( method )\n",
    "    methods[ method ].legend()\n",
    "plt.show()"
   ]
  },
  {
   "cell_type": "code",
   "execution_count": null,
   "metadata": {},
   "outputs": [],
   "source": [
    "f, ( ax1, ax2, ax3 ) = plt.subplots( 1, 3,  figsize = ( 25, 7 ) )\n",
    "\n",
    "model = 'MT'\n",
    "clustering = '_KMEANS'\n",
    "methods = { 'PCA' : ax1, 'TSNE' : ax2, 'UMAP' : ax3 }\n",
    "for method in methods:\n",
    "    for c in range( 1, 6 ):\n",
    "        methods[ method ].scatter( salurbal_df.loc[ salurbal_df[ model + '_CLUSTER' + clustering ] == c ][ method + '_' + model + '_X' ], salurbal_df.loc[ salurbal_df[ model + '_CLUSTER' + clustering ] == c ][ method + '_' + model + '_Y' ], label = str( c ), edgecolor = 'black', alpha = 0.5 )\n",
    "    methods[ method ].set_title( method )\n",
    "    methods[ method ].legend()\n",
    "plt.show()"
   ]
  },
  {
   "cell_type": "code",
   "execution_count": null,
   "metadata": {},
   "outputs": [],
   "source": [
    "f, ( ax1, ax2, ax3 ) = plt.subplots( 1, 3,  figsize = ( 25, 7 ) )\n",
    "\n",
    "model = 'MT'\n",
    "clustering = '_SPECTRAL'\n",
    "methods = { 'PCA' : ax1, 'TSNE' : ax2, 'UMAP' : ax3 }\n",
    "for method in methods:\n",
    "    for c in range( 1, 6 ):\n",
    "        methods[ method ].scatter( salurbal_df.loc[ salurbal_df[ model + '_CLUSTER' + clustering ] == c ][ method + '_' + model + '_X' ], salurbal_df.loc[ salurbal_df[ model + '_CLUSTER' + clustering ] == c ][ method + '_' + model + '_Y' ], label = str( c ), edgecolor = 'black', alpha = 0.5 )\n",
    "    methods[ method ].set_title( method )\n",
    "    methods[ method ].legend()\n",
    "plt.show()"
   ]
  },
  {
   "cell_type": "code",
   "execution_count": null,
   "metadata": {},
   "outputs": [],
   "source": [
    "salurbal_df.head()"
   ]
  },
  {
   "cell_type": "code",
   "execution_count": null,
   "metadata": {},
   "outputs": [],
   "source": [
    "salurbal_df.to_csv( '../data/modelos_l2.csv', index = False )"
   ]
  },
  {
   "cell_type": "code",
   "execution_count": null,
   "metadata": {},
   "outputs": [],
   "source": [
    "salurbal_df.to_csv( '../data/modelos_l2_comma.csv', sep = ';', decimal = ',' index = False )"
   ]
  },
  {
   "cell_type": "code",
   "execution_count": null,
   "metadata": {},
   "outputs": [],
   "source": []
  },
  {
   "cell_type": "markdown",
   "metadata": {},
   "source": [
    "# Explanations"
   ]
  },
  {
   "cell_type": "code",
   "execution_count": null,
   "metadata": {},
   "outputs": [],
   "source": [
    "import lime\n",
    "import lime.lime_tabular"
   ]
  },
  {
   "cell_type": "code",
   "execution_count": null,
   "metadata": {},
   "outputs": [],
   "source": []
  },
  {
   "cell_type": "code",
   "execution_count": null,
   "metadata": {},
   "outputs": [],
   "source": []
  },
  {
   "cell_type": "code",
   "execution_count": null,
   "metadata": {},
   "outputs": [],
   "source": []
  },
  {
   "cell_type": "code",
   "execution_count": null,
   "metadata": {},
   "outputs": [],
   "source": [
    "import sklearn\n",
    "import sklearn.datasets\n",
    "import sklearn.ensemble\n",
    "import numpy as np\n",
    "import lime\n",
    "import lime.lime_tabular\n",
    "from __future__ import print_function\n",
    "np.random.seed(1)"
   ]
  },
  {
   "cell_type": "code",
   "execution_count": null,
   "metadata": {},
   "outputs": [],
   "source": [
    "iris = sklearn.datasets.load_iris()"
   ]
  },
  {
   "cell_type": "code",
   "execution_count": null,
   "metadata": {},
   "outputs": [],
   "source": [
    "train, test, labels_train, labels_test = sklearn.model_selection.train_test_split(iris.data, iris.target, train_size=0.80)"
   ]
  },
  {
   "cell_type": "code",
   "execution_count": null,
   "metadata": {},
   "outputs": [],
   "source": [
    "rf = sklearn.ensemble.RandomForestClassifier(n_estimators=500)\n",
    "rf.fit(train, labels_train)"
   ]
  },
  {
   "cell_type": "code",
   "execution_count": null,
   "metadata": {},
   "outputs": [],
   "source": [
    "sklearn.metrics.accuracy_score(labels_test, rf.predict(test))"
   ]
  },
  {
   "cell_type": "code",
   "execution_count": null,
   "metadata": {},
   "outputs": [],
   "source": [
    "iris.target_names"
   ]
  },
  {
   "cell_type": "code",
   "execution_count": null,
   "metadata": {},
   "outputs": [],
   "source": [
    "explainer = lime.lime_tabular.LimeTabularExplainer(train, feature_names=iris.feature_names, class_names=iris.target_names, discretize_continuous=True)"
   ]
  },
  {
   "cell_type": "code",
   "execution_count": null,
   "metadata": {},
   "outputs": [],
   "source": [
    "i = np.random.randint(0, test.shape[0])\n",
    "exp = explainer.explain_instance(test[i], rf.predict_proba, num_features=2, top_labels=1)"
   ]
  },
  {
   "cell_type": "code",
   "execution_count": null,
   "metadata": {},
   "outputs": [],
   "source": [
    "exp.show_in_notebook(show_table=True, show_all=False)"
   ]
  },
  {
   "cell_type": "code",
   "execution_count": null,
   "metadata": {},
   "outputs": [],
   "source": [
    "test.shape"
   ]
  },
  {
   "cell_type": "code",
   "execution_count": null,
   "metadata": {},
   "outputs": [],
   "source": []
  },
  {
   "cell_type": "code",
   "execution_count": null,
   "metadata": {},
   "outputs": [],
   "source": []
  },
  {
   "cell_type": "code",
   "execution_count": null,
   "metadata": {},
   "outputs": [],
   "source": [
    "#salurbal_df[ [ 'MT_PROB1', 'MT_PROB2', 'MT_PROB3', 'MT_PROB4', 'MT_PROB5' ] ].sum( axis = 1 )"
   ]
  },
  {
   "cell_type": "code",
   "execution_count": null,
   "metadata": {},
   "outputs": [],
   "source": [
    "salurbal_df[ mt_features ].dtypes"
   ]
  },
  {
   "cell_type": "code",
   "execution_count": null,
   "metadata": {},
   "outputs": [],
   "source": [
    "salurbal_mx = salurbal_df[ mt_features ].values\n",
    "salurbal_mx.shape"
   ]
  },
  {
   "cell_type": "code",
   "execution_count": null,
   "metadata": {},
   "outputs": [],
   "source": [
    "salurbal_mx_probs = lambda x: salurbal_df[ [ 'MT_PROB1', 'MT_PROB2', 'MT_PROB3', 'MT_PROB4', 'MT_PROB5' ] ].values\n",
    "salurbal_mx_probs"
   ]
  },
  {
   "cell_type": "code",
   "execution_count": null,
   "metadata": {},
   "outputs": [],
   "source": [
    "salurbal_mx_probs( 1 )"
   ]
  },
  {
   "cell_type": "code",
   "execution_count": null,
   "metadata": {},
   "outputs": [],
   "source": [
    "explainer = lime.lime_tabular.LimeTabularExplainer( salurbal_mx, feature_names = mt_features, class_names = [ '1' , '2', '3', '4', '5' ] )"
   ]
  },
  {
   "cell_type": "code",
   "execution_count": null,
   "metadata": {},
   "outputs": [],
   "source": [
    "i = np.random.randint( 0, salurbal_mx.shape[ 0 ] )\n",
    "i"
   ]
  },
  {
   "cell_type": "code",
   "execution_count": null,
   "metadata": {},
   "outputs": [],
   "source": [
    "exp = explainer.explain_instance( salurbal_mx[ i ], salurbal_mx_probs, num_features = 7 )"
   ]
  },
  {
   "cell_type": "code",
   "execution_count": null,
   "metadata": {},
   "outputs": [],
   "source": []
  }
 ],
 "metadata": {
  "kernelspec": {
   "display_name": "Python 3",
   "language": "python",
   "name": "python3"
  },
  "language_info": {
   "codemirror_mode": {
    "name": "ipython",
    "version": 3
   },
   "file_extension": ".py",
   "mimetype": "text/x-python",
   "name": "python",
   "nbconvert_exporter": "python",
   "pygments_lexer": "ipython3",
   "version": "3.6.5"
  }
 },
 "nbformat": 4,
 "nbformat_minor": 2
}
